{
 "cells": [
  {
   "cell_type": "markdown",
   "metadata": {},
   "source": [
    "# HR Analytics Case"
   ]
  },
  {
   "cell_type": "markdown",
   "metadata": {},
   "source": [
    "source: https://www.kaggle.com/ludobenistant/hr-analytics-1"
   ]
  },
  {
   "cell_type": "code",
   "execution_count": 2,
   "metadata": {
    "collapsed": true
   },
   "outputs": [],
   "source": [
    "import pandas as pd"
   ]
  },
  {
   "cell_type": "code",
   "execution_count": 3,
   "metadata": {
    "collapsed": true
   },
   "outputs": [],
   "source": [
    "data = pd.read_csv('data_hr.csv')"
   ]
  },
  {
   "cell_type": "code",
   "execution_count": 4,
   "metadata": {},
   "outputs": [
    {
     "data": {
      "text/html": [
       "<div>\n",
       "<style>\n",
       "    .dataframe thead tr:only-child th {\n",
       "        text-align: right;\n",
       "    }\n",
       "\n",
       "    .dataframe thead th {\n",
       "        text-align: left;\n",
       "    }\n",
       "\n",
       "    .dataframe tbody tr th {\n",
       "        vertical-align: top;\n",
       "    }\n",
       "</style>\n",
       "<table border=\"1\" class=\"dataframe\">\n",
       "  <thead>\n",
       "    <tr style=\"text-align: right;\">\n",
       "      <th></th>\n",
       "      <th>satisfaction_level</th>\n",
       "      <th>last_evaluation</th>\n",
       "      <th>number_project</th>\n",
       "      <th>average_montly_hours</th>\n",
       "      <th>time_spend_company</th>\n",
       "      <th>Work_accident</th>\n",
       "      <th>left</th>\n",
       "      <th>promotion_last_5years</th>\n",
       "      <th>division</th>\n",
       "      <th>salary</th>\n",
       "    </tr>\n",
       "  </thead>\n",
       "  <tbody>\n",
       "    <tr>\n",
       "      <th>0</th>\n",
       "      <td>0.38</td>\n",
       "      <td>0.53</td>\n",
       "      <td>2</td>\n",
       "      <td>157</td>\n",
       "      <td>3</td>\n",
       "      <td>0</td>\n",
       "      <td>1</td>\n",
       "      <td>0</td>\n",
       "      <td>sales</td>\n",
       "      <td>low</td>\n",
       "    </tr>\n",
       "    <tr>\n",
       "      <th>1</th>\n",
       "      <td>0.80</td>\n",
       "      <td>0.86</td>\n",
       "      <td>5</td>\n",
       "      <td>262</td>\n",
       "      <td>6</td>\n",
       "      <td>0</td>\n",
       "      <td>1</td>\n",
       "      <td>0</td>\n",
       "      <td>sales</td>\n",
       "      <td>medium</td>\n",
       "    </tr>\n",
       "    <tr>\n",
       "      <th>2</th>\n",
       "      <td>0.11</td>\n",
       "      <td>0.88</td>\n",
       "      <td>7</td>\n",
       "      <td>272</td>\n",
       "      <td>4</td>\n",
       "      <td>0</td>\n",
       "      <td>1</td>\n",
       "      <td>0</td>\n",
       "      <td>sales</td>\n",
       "      <td>medium</td>\n",
       "    </tr>\n",
       "    <tr>\n",
       "      <th>3</th>\n",
       "      <td>0.72</td>\n",
       "      <td>0.87</td>\n",
       "      <td>5</td>\n",
       "      <td>223</td>\n",
       "      <td>5</td>\n",
       "      <td>0</td>\n",
       "      <td>1</td>\n",
       "      <td>0</td>\n",
       "      <td>sales</td>\n",
       "      <td>low</td>\n",
       "    </tr>\n",
       "    <tr>\n",
       "      <th>4</th>\n",
       "      <td>0.37</td>\n",
       "      <td>0.52</td>\n",
       "      <td>2</td>\n",
       "      <td>159</td>\n",
       "      <td>3</td>\n",
       "      <td>0</td>\n",
       "      <td>1</td>\n",
       "      <td>0</td>\n",
       "      <td>sales</td>\n",
       "      <td>low</td>\n",
       "    </tr>\n",
       "  </tbody>\n",
       "</table>\n",
       "</div>"
      ],
      "text/plain": [
       "   satisfaction_level  last_evaluation  number_project  average_montly_hours  \\\n",
       "0                0.38             0.53               2                   157   \n",
       "1                0.80             0.86               5                   262   \n",
       "2                0.11             0.88               7                   272   \n",
       "3                0.72             0.87               5                   223   \n",
       "4                0.37             0.52               2                   159   \n",
       "\n",
       "   time_spend_company  Work_accident  left  promotion_last_5years division  \\\n",
       "0                   3              0     1                      0    sales   \n",
       "1                   6              0     1                      0    sales   \n",
       "2                   4              0     1                      0    sales   \n",
       "3                   5              0     1                      0    sales   \n",
       "4                   3              0     1                      0    sales   \n",
       "\n",
       "   salary  \n",
       "0     low  \n",
       "1  medium  \n",
       "2  medium  \n",
       "3     low  \n",
       "4     low  "
      ]
     },
     "execution_count": 4,
     "metadata": {},
     "output_type": "execute_result"
    }
   ],
   "source": [
    "data.head()"
   ]
  },
  {
   "cell_type": "code",
   "execution_count": 5,
   "metadata": {},
   "outputs": [
    {
     "name": "stdout",
     "output_type": "stream",
     "text": [
      "0.10    358\n",
      "0.11    335\n",
      "0.74    257\n",
      "0.77    252\n",
      "0.84    247\n",
      "0.73    246\n",
      "0.37    241\n",
      "0.78    241\n",
      "0.82    241\n",
      "0.89    237\n",
      "0.76    234\n",
      "0.83    234\n",
      "0.72    230\n",
      "0.50    229\n",
      "0.66    228\n",
      "0.75    226\n",
      "0.87    225\n",
      "0.43    224\n",
      "0.91    224\n",
      "0.80    222\n",
      "0.90    220\n",
      "0.81    220\n",
      "0.59    219\n",
      "0.79    217\n",
      "0.44    211\n",
      "0.57    210\n",
      "0.63    209\n",
      "0.49    209\n",
      "0.69    209\n",
      "0.40    209\n",
      "       ... \n",
      "0.42    155\n",
      "0.48    149\n",
      "0.36    139\n",
      "1.00    111\n",
      "0.46     95\n",
      "0.24     80\n",
      "0.16     79\n",
      "0.15     76\n",
      "0.19     74\n",
      "0.14     73\n",
      "0.17     72\n",
      "0.20     69\n",
      "0.21     67\n",
      "0.18     63\n",
      "0.22     60\n",
      "0.31     59\n",
      "0.13     54\n",
      "0.23     54\n",
      "0.32     50\n",
      "0.34     48\n",
      "0.47     42\n",
      "0.30     39\n",
      "0.29     38\n",
      "0.35     37\n",
      "0.33     36\n",
      "0.25     34\n",
      "0.28     31\n",
      "0.27     30\n",
      "0.12     30\n",
      "0.26     30\n",
      "Name: satisfaction_level, Length: 92, dtype: int64 \n",
      "\n",
      "\n",
      "0.55    358\n",
      "0.50    353\n",
      "0.54    350\n",
      "0.51    345\n",
      "0.57    333\n",
      "0.49    332\n",
      "0.87    326\n",
      "0.53    324\n",
      "0.56    322\n",
      "0.85    316\n",
      "0.90    313\n",
      "0.52    309\n",
      "0.89    296\n",
      "0.84    294\n",
      "0.48    292\n",
      "0.91    287\n",
      "1.00    283\n",
      "0.97    276\n",
      "0.86    273\n",
      "0.93    269\n",
      "0.92    269\n",
      "0.83    269\n",
      "0.77    263\n",
      "0.94    263\n",
      "0.98    263\n",
      "0.74    260\n",
      "0.99    258\n",
      "0.95    258\n",
      "0.59    255\n",
      "0.81    255\n",
      "       ... \n",
      "0.82    237\n",
      "0.63    236\n",
      "0.64    235\n",
      "0.88    235\n",
      "0.61    234\n",
      "0.62    233\n",
      "0.58    225\n",
      "0.73    223\n",
      "0.66    222\n",
      "0.68    222\n",
      "0.60    221\n",
      "0.76    216\n",
      "0.78    214\n",
      "0.70    213\n",
      "0.72    211\n",
      "0.46    211\n",
      "0.65    201\n",
      "0.71    196\n",
      "0.69    193\n",
      "0.47    173\n",
      "0.45    115\n",
      "0.41     59\n",
      "0.40     57\n",
      "0.42     56\n",
      "0.37     55\n",
      "0.39     52\n",
      "0.43     50\n",
      "0.38     50\n",
      "0.44     44\n",
      "0.36     22\n",
      "Name: last_evaluation, Length: 65, dtype: int64 \n",
      "\n",
      "\n",
      "4    4365\n",
      "3    4055\n",
      "5    2761\n",
      "2    2388\n",
      "6    1174\n",
      "7     256\n",
      "Name: number_project, dtype: int64 \n",
      "\n",
      "\n",
      "156    153\n",
      "135    153\n",
      "149    148\n",
      "151    147\n",
      "160    136\n",
      "145    134\n",
      "140    129\n",
      "143    127\n",
      "257    126\n",
      "157    126\n",
      "155    125\n",
      "245    124\n",
      "260    124\n",
      "158    124\n",
      "148    123\n",
      "137    122\n",
      "153    122\n",
      "154    121\n",
      "159    121\n",
      "139    120\n",
      "147    118\n",
      "255    115\n",
      "141    115\n",
      "134    114\n",
      "254    113\n",
      "224    112\n",
      "142    112\n",
      "243    112\n",
      "152    112\n",
      "264    111\n",
      "      ... \n",
      "291     17\n",
      "309     16\n",
      "101     16\n",
      "294     16\n",
      "114     15\n",
      "290     15\n",
      "292     15\n",
      "307     14\n",
      "97      14\n",
      "115     14\n",
      "124     13\n",
      "293     13\n",
      "298     13\n",
      "295     12\n",
      "110     12\n",
      "118     12\n",
      "300     11\n",
      "99      11\n",
      "122     11\n",
      "119     10\n",
      "116     10\n",
      "120     10\n",
      "112     10\n",
      "107     10\n",
      "302      8\n",
      "297      7\n",
      "303      6\n",
      "288      6\n",
      "299      6\n",
      "96       6\n",
      "Name: average_montly_hours, Length: 215, dtype: int64 \n",
      "\n",
      "\n",
      "3     6443\n",
      "2     3244\n",
      "4     2557\n",
      "5     1473\n",
      "6      718\n",
      "10     214\n",
      "7      188\n",
      "8      162\n",
      "Name: time_spend_company, dtype: int64 \n",
      "\n",
      "\n",
      "0    12830\n",
      "1     2169\n",
      "Name: Work_accident, dtype: int64 \n",
      "\n",
      "\n",
      "0    11428\n",
      "1     3571\n",
      "Name: left, dtype: int64 \n",
      "\n",
      "\n",
      "0    14680\n",
      "1      319\n",
      "Name: promotion_last_5years, dtype: int64 \n",
      "\n",
      "\n",
      "sales          4140\n",
      "technical      2720\n",
      "support        2229\n",
      "IT             1227\n",
      "product_mng     902\n",
      "marketing       858\n",
      "RandD           787\n",
      "accounting      767\n",
      "hr              739\n",
      "management      630\n",
      "Name: division, dtype: int64 \n",
      "\n",
      "\n",
      "low       7316\n",
      "medium    6446\n",
      "high      1237\n",
      "Name: salary, dtype: int64 \n",
      "\n",
      "\n"
     ]
    }
   ],
   "source": [
    "for i in data.columns:\n",
    "    print(data[i].value_counts(), '\\n\\n')"
   ]
  },
  {
   "cell_type": "code",
   "execution_count": 6,
   "metadata": {
    "collapsed": true
   },
   "outputs": [],
   "source": [
    "categoric = ['promotion_last_5years', 'division', 'salary', 'Work_accident']\n",
    "categoric_numeric = ['number_project', 'time_spend_company']\n",
    "drop = ['left']\n",
    "numeric = [x for x in data.columns if x not in categoric and x not in drop]"
   ]
  },
  {
   "cell_type": "code",
   "execution_count": 7,
   "metadata": {},
   "outputs": [
    {
     "data": {
      "text/plain": [
       "['promotion_last_5years', 'division', 'salary', 'Work_accident']"
      ]
     },
     "execution_count": 7,
     "metadata": {},
     "output_type": "execute_result"
    }
   ],
   "source": [
    "categoric"
   ]
  },
  {
   "cell_type": "code",
   "execution_count": 8,
   "metadata": {
    "collapsed": true
   },
   "outputs": [],
   "source": [
    "categoric.extend(categoric_numeric)"
   ]
  },
  {
   "cell_type": "code",
   "execution_count": 9,
   "metadata": {},
   "outputs": [
    {
     "data": {
      "text/plain": [
       "['promotion_last_5years',\n",
       " 'division',\n",
       " 'salary',\n",
       " 'Work_accident',\n",
       " 'number_project',\n",
       " 'time_spend_company']"
      ]
     },
     "execution_count": 9,
     "metadata": {},
     "output_type": "execute_result"
    }
   ],
   "source": [
    "categoric"
   ]
  },
  {
   "cell_type": "code",
   "execution_count": 10,
   "metadata": {
    "scrolled": true
   },
   "outputs": [
    {
     "data": {
      "text/plain": [
       "['satisfaction_level',\n",
       " 'last_evaluation',\n",
       " 'number_project',\n",
       " 'average_montly_hours',\n",
       " 'time_spend_company']"
      ]
     },
     "execution_count": 10,
     "metadata": {},
     "output_type": "execute_result"
    }
   ],
   "source": [
    "numeric"
   ]
  },
  {
   "cell_type": "code",
   "execution_count": 11,
   "metadata": {},
   "outputs": [
    {
     "data": {
      "text/plain": [
       "3008"
      ]
     },
     "execution_count": 11,
     "metadata": {},
     "output_type": "execute_result"
    }
   ],
   "source": [
    "data.duplicated().sum()"
   ]
  },
  {
   "cell_type": "markdown",
   "metadata": {},
   "source": [
    "## Import Data"
   ]
  },
  {
   "cell_type": "code",
   "execution_count": 12,
   "metadata": {
    "collapsed": true
   },
   "outputs": [],
   "source": [
    "def ImportData(data,drop):\n",
    "    data_input = pd.read_csv(data)\n",
    "    data_input = data_input.drop(drop, axis=1)\n",
    "    print(\"Data shape (rows, columns) : \", data_input.shape)\n",
    "    print(\"Amount of duplicated data: \", data_input.duplicated().sum())\n",
    "    data_input = data_input.drop_duplicates()\n",
    "    print(\"Data shape after drop duplicates (rows, columns): \", data_input.shape)\n",
    "    print(data_input.head())\n",
    "    return data_input"
   ]
  },
  {
   "cell_type": "code",
   "execution_count": 13,
   "metadata": {},
   "outputs": [
    {
     "name": "stdout",
     "output_type": "stream",
     "text": [
      "Data shape (rows, columns) :  (14999, 10)\n",
      "Amount of duplicated data:  3008\n",
      "Data shape after drop duplicates (rows, columns):  (11991, 10)\n",
      "   satisfaction_level  last_evaluation  number_project  average_montly_hours  \\\n",
      "0                0.38             0.53               2                   157   \n",
      "1                0.80             0.86               5                   262   \n",
      "2                0.11             0.88               7                   272   \n",
      "3                0.72             0.87               5                   223   \n",
      "4                0.37             0.52               2                   159   \n",
      "\n",
      "   time_spend_company  Work_accident  left  promotion_last_5years division  \\\n",
      "0                   3              0     1                      0    sales   \n",
      "1                   6              0     1                      0    sales   \n",
      "2                   4              0     1                      0    sales   \n",
      "3                   5              0     1                      0    sales   \n",
      "4                   3              0     1                      0    sales   \n",
      "\n",
      "   salary  \n",
      "0     low  \n",
      "1  medium  \n",
      "2  medium  \n",
      "3     low  \n",
      "4     low  \n"
     ]
    }
   ],
   "source": [
    "drop = []\n",
    "data = ImportData('data_hr.csv', drop)"
   ]
  },
  {
   "cell_type": "code",
   "execution_count": 14,
   "metadata": {
    "collapsed": true
   },
   "outputs": [],
   "source": [
    "def ExtractInputOutput(data, output):\n",
    "    y = data[output]\n",
    "    x = data.drop(output, axis=1)\n",
    "    print(x.head())\n",
    "    print(y.head())\n",
    "    return x,y"
   ]
  },
  {
   "cell_type": "code",
   "execution_count": 15,
   "metadata": {},
   "outputs": [
    {
     "name": "stdout",
     "output_type": "stream",
     "text": [
      "   satisfaction_level  last_evaluation  number_project  average_montly_hours  \\\n",
      "0                0.38             0.53               2                   157   \n",
      "1                0.80             0.86               5                   262   \n",
      "2                0.11             0.88               7                   272   \n",
      "3                0.72             0.87               5                   223   \n",
      "4                0.37             0.52               2                   159   \n",
      "\n",
      "   time_spend_company  Work_accident  promotion_last_5years division  salary  \n",
      "0                   3              0                      0    sales     low  \n",
      "1                   6              0                      0    sales  medium  \n",
      "2                   4              0                      0    sales  medium  \n",
      "3                   5              0                      0    sales     low  \n",
      "4                   3              0                      0    sales     low  \n",
      "0    1\n",
      "1    1\n",
      "2    1\n",
      "3    1\n",
      "4    1\n",
      "Name: left, dtype: int64\n"
     ]
    }
   ],
   "source": [
    "x, y = ExtractInputOutput(data, 'left')"
   ]
  },
  {
   "cell_type": "code",
   "execution_count": 16,
   "metadata": {
    "collapsed": true
   },
   "outputs": [],
   "source": [
    "from sklearn.model_selection import train_test_split"
   ]
  },
  {
   "cell_type": "code",
   "execution_count": 17,
   "metadata": {
    "collapsed": true
   },
   "outputs": [],
   "source": [
    "x_train, x_test, y_train, y_test = train_test_split(x, y, test_size = 0.2, random_state=123)"
   ]
  },
  {
   "cell_type": "code",
   "execution_count": 18,
   "metadata": {
    "scrolled": true
   },
   "outputs": [
    {
     "data": {
      "text/plain": [
       "satisfaction_level       0\n",
       "last_evaluation          0\n",
       "number_project           0\n",
       "average_montly_hours     0\n",
       "time_spend_company       0\n",
       "Work_accident            0\n",
       "promotion_last_5years    0\n",
       "division                 0\n",
       "salary                   0\n",
       "dtype: int64"
      ]
     },
     "execution_count": 18,
     "metadata": {},
     "output_type": "execute_result"
    }
   ],
   "source": [
    "x_train.isnull().sum()"
   ]
  },
  {
   "cell_type": "markdown",
   "metadata": {},
   "source": [
    "## Categorical Imput"
   ]
  },
  {
   "cell_type": "code",
   "execution_count": 19,
   "metadata": {
    "collapsed": true
   },
   "outputs": [],
   "source": [
    "from sklearn.preprocessing import LabelEncoder, LabelBinarizer"
   ]
  },
  {
   "cell_type": "code",
   "execution_count": 20,
   "metadata": {
    "collapsed": true
   },
   "outputs": [],
   "source": [
    "def categoricalDummies(data):\n",
    "    data = data.fillna(\"KOSONG\")\n",
    "    dummy_variables = pd.DataFrame([])\n",
    "    label_encoder = pd.Series([])\n",
    "    label_binarizer = pd.Series([])\n",
    "    \n",
    "    for i in list(data):\n",
    "        label_en = LabelEncoder()\n",
    "        label_bin = LabelBinarizer()\n",
    "        \n",
    "        encoded = label_en.fit_transform(data[i])\n",
    "        binary = label_bin.fit_transform(encoded)\n",
    "        \n",
    "        if binary.shape[1] == 1:\n",
    "            dummy = pd.DataFrame(binary, columns = [i], index = data.index)\n",
    "        else:\n",
    "            dummy = pd.DataFrame(binary, columns=[\"{}_{}\".format(a, b) for b in sorted(data[i].unique())\n",
    "                                              for a in [i]], \n",
    "                             index = data.index)\n",
    "        \n",
    "        dummy_variables = pd.concat([dummy_variables, dummy], axis = 1)\n",
    "        label_encoder[i] = label_en\n",
    "        label_binarizer[i] = label_bin\n",
    "        \n",
    "    return dummy_variables, label_encoder, label_binarizer, dummy_variables.columns"
   ]
  },
  {
   "cell_type": "code",
   "execution_count": 21,
   "metadata": {
    "collapsed": true
   },
   "outputs": [],
   "source": [
    "data_train_dummy,label_encoder, label_binarizer, dummy_columns = categoricalDummies(x_train[categoric])"
   ]
  },
  {
   "cell_type": "code",
   "execution_count": 22,
   "metadata": {},
   "outputs": [
    {
     "data": {
      "text/plain": [
       "promotion_last_5years    False\n",
       "division_IT              False\n",
       "division_RandD           False\n",
       "division_accounting      False\n",
       "division_hr              False\n",
       "division_management      False\n",
       "division_marketing       False\n",
       "division_product_mng     False\n",
       "division_sales           False\n",
       "division_support         False\n",
       "division_technical       False\n",
       "salary_high              False\n",
       "salary_low               False\n",
       "salary_medium            False\n",
       "Work_accident            False\n",
       "number_project_2         False\n",
       "number_project_3         False\n",
       "number_project_4         False\n",
       "number_project_5         False\n",
       "number_project_6         False\n",
       "number_project_7         False\n",
       "time_spend_company_2     False\n",
       "time_spend_company_3     False\n",
       "time_spend_company_4     False\n",
       "time_spend_company_5     False\n",
       "time_spend_company_6     False\n",
       "time_spend_company_7     False\n",
       "time_spend_company_8     False\n",
       "time_spend_company_10    False\n",
       "dtype: bool"
      ]
     },
     "execution_count": 22,
     "metadata": {},
     "output_type": "execute_result"
    }
   ],
   "source": [
    "data_train_dummy.isnull().any()"
   ]
  },
  {
   "cell_type": "markdown",
   "metadata": {},
   "source": [
    "## Numerical Imput"
   ]
  },
  {
   "cell_type": "code",
   "execution_count": 23,
   "metadata": {
    "collapsed": true
   },
   "outputs": [],
   "source": [
    "from sklearn.preprocessing import Imputer"
   ]
  },
  {
   "cell_type": "code",
   "execution_count": 24,
   "metadata": {
    "collapsed": true
   },
   "outputs": [],
   "source": [
    "def FitImputNum(data, numeric, missing_values, method):\n",
    "    imput = Imputer(missing_values=missing_values, strategy = method)\n",
    "    imput.fit(data[numeric])\n",
    "    return data[numeric], imput"
   ]
  },
  {
   "cell_type": "code",
   "execution_count": 25,
   "metadata": {
    "collapsed": true
   },
   "outputs": [],
   "source": [
    "def TransformImputNum(data, imputer):\n",
    "    data_imput = pd.DataFrame(imputer.transform(data))\n",
    "    data_imput.columns = data.columns\n",
    "    data_imput.index = data.index\n",
    "    print(data_imput.isnull().sum())\n",
    "    print(data_imput.head())\n",
    "    return data_imput"
   ]
  },
  {
   "cell_type": "code",
   "execution_count": 26,
   "metadata": {
    "collapsed": true
   },
   "outputs": [],
   "source": [
    "x_train_numeric, imput = FitImputNum(x_train, numeric, 'NaN', 'median')"
   ]
  },
  {
   "cell_type": "code",
   "execution_count": 27,
   "metadata": {
    "scrolled": true
   },
   "outputs": [
    {
     "name": "stdout",
     "output_type": "stream",
     "text": [
      "satisfaction_level      0\n",
      "last_evaluation         0\n",
      "number_project          0\n",
      "average_montly_hours    0\n",
      "time_spend_company      0\n",
      "dtype: int64\n",
      "       satisfaction_level  last_evaluation  number_project  \\\n",
      "2563                 0.96             0.81             3.0   \n",
      "10060                0.74             1.00             4.0   \n",
      "5423                 0.94             0.70             3.0   \n",
      "9739                 0.85             0.90             5.0   \n",
      "9690                 0.99             0.54             3.0   \n",
      "\n",
      "       average_montly_hours  time_spend_company  \n",
      "2563                  212.0                 3.0  \n",
      "10060                 242.0                 2.0  \n",
      "5423                  176.0                 3.0  \n",
      "9739                  247.0                 2.0  \n",
      "9690                  247.0                 3.0  \n"
     ]
    }
   ],
   "source": [
    "x_train_imput_num = TransformImputNum(x_train_numeric, imput)"
   ]
  },
  {
   "cell_type": "code",
   "execution_count": 28,
   "metadata": {
    "collapsed": true
   },
   "outputs": [],
   "source": [
    "from sklearn.preprocessing import StandardScaler"
   ]
  },
  {
   "cell_type": "code",
   "execution_count": 29,
   "metadata": {
    "collapsed": true
   },
   "outputs": [],
   "source": [
    "def FitStandardize(data):\n",
    "    standard = StandardScaler()\n",
    "    standard.fit(data)\n",
    "    return standard"
   ]
  },
  {
   "cell_type": "code",
   "execution_count": 30,
   "metadata": {
    "collapsed": true
   },
   "outputs": [],
   "source": [
    "def TransformStandardize(data, standard):\n",
    "    data_transform = pd.DataFrame(standard.transform(data))\n",
    "    data_transform.columns = data.columns\n",
    "    data_transform.index = data.index\n",
    "    print(data_transform.head())\n",
    "    return data_transform"
   ]
  },
  {
   "cell_type": "code",
   "execution_count": 31,
   "metadata": {
    "collapsed": true
   },
   "outputs": [],
   "source": [
    "standard = FitStandardize(x_train_imput_num)"
   ]
  },
  {
   "cell_type": "code",
   "execution_count": 32,
   "metadata": {},
   "outputs": [
    {
     "name": "stdout",
     "output_type": "stream",
     "text": [
      "       satisfaction_level  last_evaluation  number_project  \\\n",
      "2563             1.370170         0.547328       -0.684838   \n",
      "10060            0.460725         1.676649        0.173065   \n",
      "5423             1.287493        -0.106489       -0.684838   \n",
      "9739             0.915447         1.082270        1.030968   \n",
      "9690             1.494185        -1.057496       -0.684838   \n",
      "\n",
      "       average_montly_hours  time_spend_company  \n",
      "2563               0.234502           -0.268382  \n",
      "10060              0.850198           -1.025091  \n",
      "5423              -0.504333           -0.268382  \n",
      "9739               0.952814           -1.025091  \n",
      "9690               0.952814           -0.268382  \n"
     ]
    }
   ],
   "source": [
    "x_train_standardize = TransformStandardize(x_train_imput_num, standard)"
   ]
  },
  {
   "cell_type": "code",
   "execution_count": 33,
   "metadata": {
    "collapsed": true
   },
   "outputs": [],
   "source": [
    "x_train_concat = pd.concat([x_train_standardize, data_train_dummy], axis=1)"
   ]
  },
  {
   "cell_type": "code",
   "execution_count": 34,
   "metadata": {},
   "outputs": [
    {
     "data": {
      "text/html": [
       "<div>\n",
       "<style>\n",
       "    .dataframe thead tr:only-child th {\n",
       "        text-align: right;\n",
       "    }\n",
       "\n",
       "    .dataframe thead th {\n",
       "        text-align: left;\n",
       "    }\n",
       "\n",
       "    .dataframe tbody tr th {\n",
       "        vertical-align: top;\n",
       "    }\n",
       "</style>\n",
       "<table border=\"1\" class=\"dataframe\">\n",
       "  <thead>\n",
       "    <tr style=\"text-align: right;\">\n",
       "      <th></th>\n",
       "      <th>satisfaction_level</th>\n",
       "      <th>last_evaluation</th>\n",
       "      <th>number_project</th>\n",
       "      <th>average_montly_hours</th>\n",
       "      <th>time_spend_company</th>\n",
       "      <th>promotion_last_5years</th>\n",
       "      <th>division_IT</th>\n",
       "      <th>division_RandD</th>\n",
       "      <th>division_accounting</th>\n",
       "      <th>division_hr</th>\n",
       "      <th>...</th>\n",
       "      <th>number_project_6</th>\n",
       "      <th>number_project_7</th>\n",
       "      <th>time_spend_company_2</th>\n",
       "      <th>time_spend_company_3</th>\n",
       "      <th>time_spend_company_4</th>\n",
       "      <th>time_spend_company_5</th>\n",
       "      <th>time_spend_company_6</th>\n",
       "      <th>time_spend_company_7</th>\n",
       "      <th>time_spend_company_8</th>\n",
       "      <th>time_spend_company_10</th>\n",
       "    </tr>\n",
       "  </thead>\n",
       "  <tbody>\n",
       "    <tr>\n",
       "      <th>2563</th>\n",
       "      <td>1.370170</td>\n",
       "      <td>0.547328</td>\n",
       "      <td>-0.684838</td>\n",
       "      <td>0.234502</td>\n",
       "      <td>-0.268382</td>\n",
       "      <td>0</td>\n",
       "      <td>0</td>\n",
       "      <td>0</td>\n",
       "      <td>0</td>\n",
       "      <td>0</td>\n",
       "      <td>...</td>\n",
       "      <td>0</td>\n",
       "      <td>0</td>\n",
       "      <td>0</td>\n",
       "      <td>1</td>\n",
       "      <td>0</td>\n",
       "      <td>0</td>\n",
       "      <td>0</td>\n",
       "      <td>0</td>\n",
       "      <td>0</td>\n",
       "      <td>0</td>\n",
       "    </tr>\n",
       "    <tr>\n",
       "      <th>10060</th>\n",
       "      <td>0.460725</td>\n",
       "      <td>1.676649</td>\n",
       "      <td>0.173065</td>\n",
       "      <td>0.850198</td>\n",
       "      <td>-1.025091</td>\n",
       "      <td>0</td>\n",
       "      <td>0</td>\n",
       "      <td>0</td>\n",
       "      <td>0</td>\n",
       "      <td>0</td>\n",
       "      <td>...</td>\n",
       "      <td>0</td>\n",
       "      <td>0</td>\n",
       "      <td>1</td>\n",
       "      <td>0</td>\n",
       "      <td>0</td>\n",
       "      <td>0</td>\n",
       "      <td>0</td>\n",
       "      <td>0</td>\n",
       "      <td>0</td>\n",
       "      <td>0</td>\n",
       "    </tr>\n",
       "    <tr>\n",
       "      <th>5423</th>\n",
       "      <td>1.287493</td>\n",
       "      <td>-0.106489</td>\n",
       "      <td>-0.684838</td>\n",
       "      <td>-0.504333</td>\n",
       "      <td>-0.268382</td>\n",
       "      <td>0</td>\n",
       "      <td>0</td>\n",
       "      <td>0</td>\n",
       "      <td>0</td>\n",
       "      <td>0</td>\n",
       "      <td>...</td>\n",
       "      <td>0</td>\n",
       "      <td>0</td>\n",
       "      <td>0</td>\n",
       "      <td>1</td>\n",
       "      <td>0</td>\n",
       "      <td>0</td>\n",
       "      <td>0</td>\n",
       "      <td>0</td>\n",
       "      <td>0</td>\n",
       "      <td>0</td>\n",
       "    </tr>\n",
       "    <tr>\n",
       "      <th>9739</th>\n",
       "      <td>0.915447</td>\n",
       "      <td>1.082270</td>\n",
       "      <td>1.030968</td>\n",
       "      <td>0.952814</td>\n",
       "      <td>-1.025091</td>\n",
       "      <td>0</td>\n",
       "      <td>0</td>\n",
       "      <td>0</td>\n",
       "      <td>0</td>\n",
       "      <td>0</td>\n",
       "      <td>...</td>\n",
       "      <td>0</td>\n",
       "      <td>0</td>\n",
       "      <td>1</td>\n",
       "      <td>0</td>\n",
       "      <td>0</td>\n",
       "      <td>0</td>\n",
       "      <td>0</td>\n",
       "      <td>0</td>\n",
       "      <td>0</td>\n",
       "      <td>0</td>\n",
       "    </tr>\n",
       "    <tr>\n",
       "      <th>9690</th>\n",
       "      <td>1.494185</td>\n",
       "      <td>-1.057496</td>\n",
       "      <td>-0.684838</td>\n",
       "      <td>0.952814</td>\n",
       "      <td>-0.268382</td>\n",
       "      <td>0</td>\n",
       "      <td>0</td>\n",
       "      <td>1</td>\n",
       "      <td>0</td>\n",
       "      <td>0</td>\n",
       "      <td>...</td>\n",
       "      <td>0</td>\n",
       "      <td>0</td>\n",
       "      <td>0</td>\n",
       "      <td>1</td>\n",
       "      <td>0</td>\n",
       "      <td>0</td>\n",
       "      <td>0</td>\n",
       "      <td>0</td>\n",
       "      <td>0</td>\n",
       "      <td>0</td>\n",
       "    </tr>\n",
       "  </tbody>\n",
       "</table>\n",
       "<p>5 rows × 34 columns</p>\n",
       "</div>"
      ],
      "text/plain": [
       "       satisfaction_level  last_evaluation  number_project  \\\n",
       "2563             1.370170         0.547328       -0.684838   \n",
       "10060            0.460725         1.676649        0.173065   \n",
       "5423             1.287493        -0.106489       -0.684838   \n",
       "9739             0.915447         1.082270        1.030968   \n",
       "9690             1.494185        -1.057496       -0.684838   \n",
       "\n",
       "       average_montly_hours  time_spend_company  promotion_last_5years  \\\n",
       "2563               0.234502           -0.268382                      0   \n",
       "10060              0.850198           -1.025091                      0   \n",
       "5423              -0.504333           -0.268382                      0   \n",
       "9739               0.952814           -1.025091                      0   \n",
       "9690               0.952814           -0.268382                      0   \n",
       "\n",
       "       division_IT  division_RandD  division_accounting  division_hr  \\\n",
       "2563             0               0                    0            0   \n",
       "10060            0               0                    0            0   \n",
       "5423             0               0                    0            0   \n",
       "9739             0               0                    0            0   \n",
       "9690             0               1                    0            0   \n",
       "\n",
       "               ...            number_project_6  number_project_7  \\\n",
       "2563           ...                           0                 0   \n",
       "10060          ...                           0                 0   \n",
       "5423           ...                           0                 0   \n",
       "9739           ...                           0                 0   \n",
       "9690           ...                           0                 0   \n",
       "\n",
       "       time_spend_company_2  time_spend_company_3  time_spend_company_4  \\\n",
       "2563                      0                     1                     0   \n",
       "10060                     1                     0                     0   \n",
       "5423                      0                     1                     0   \n",
       "9739                      1                     0                     0   \n",
       "9690                      0                     1                     0   \n",
       "\n",
       "       time_spend_company_5  time_spend_company_6  time_spend_company_7  \\\n",
       "2563                      0                     0                     0   \n",
       "10060                     0                     0                     0   \n",
       "5423                      0                     0                     0   \n",
       "9739                      0                     0                     0   \n",
       "9690                      0                     0                     0   \n",
       "\n",
       "       time_spend_company_8  time_spend_company_10  \n",
       "2563                      0                      0  \n",
       "10060                     0                      0  \n",
       "5423                      0                      0  \n",
       "9739                      0                      0  \n",
       "9690                      0                      0  \n",
       "\n",
       "[5 rows x 34 columns]"
      ]
     },
     "execution_count": 34,
     "metadata": {},
     "output_type": "execute_result"
    }
   ],
   "source": [
    "x_train_concat.head()"
   ]
  },
  {
   "cell_type": "code",
   "execution_count": 35,
   "metadata": {},
   "outputs": [
    {
     "data": {
      "text/plain": [
       "satisfaction_level       0\n",
       "last_evaluation          0\n",
       "number_project           0\n",
       "average_montly_hours     0\n",
       "time_spend_company       0\n",
       "promotion_last_5years    0\n",
       "division_IT              0\n",
       "division_RandD           0\n",
       "division_accounting      0\n",
       "division_hr              0\n",
       "division_management      0\n",
       "division_marketing       0\n",
       "division_product_mng     0\n",
       "division_sales           0\n",
       "division_support         0\n",
       "division_technical       0\n",
       "salary_high              0\n",
       "salary_low               0\n",
       "salary_medium            0\n",
       "Work_accident            0\n",
       "number_project_2         0\n",
       "number_project_3         0\n",
       "number_project_4         0\n",
       "number_project_5         0\n",
       "number_project_6         0\n",
       "number_project_7         0\n",
       "time_spend_company_2     0\n",
       "time_spend_company_3     0\n",
       "time_spend_company_4     0\n",
       "time_spend_company_5     0\n",
       "time_spend_company_6     0\n",
       "time_spend_company_7     0\n",
       "time_spend_company_8     0\n",
       "time_spend_company_10    0\n",
       "dtype: int64"
      ]
     },
     "execution_count": 35,
     "metadata": {},
     "output_type": "execute_result"
    }
   ],
   "source": [
    "x_train_concat.isnull().sum()"
   ]
  },
  {
   "cell_type": "markdown",
   "metadata": {},
   "source": [
    "## Training Data"
   ]
  },
  {
   "cell_type": "code",
   "execution_count": 36,
   "metadata": {
    "collapsed": true
   },
   "outputs": [],
   "source": [
    "from sklearn.svm import SVC\n",
    "from sklearn.svm import LinearSVC\n",
    "from sklearn.linear_model import LogisticRegression\n",
    "from sklearn.model_selection import RandomizedSearchCV"
   ]
  },
  {
   "cell_type": "code",
   "execution_count": 37,
   "metadata": {
    "collapsed": true
   },
   "outputs": [],
   "source": [
    "def rbfSVC_fit(x_train, y_train):\n",
    "    rbfSVC = SVC(kernel = 'rbf')\n",
    "\n",
    "    hyperparam = {'C': [1000, 333.33, 100, 33.33, 10, 3.33, 10, 3.33, 1, 0.33, 0.1, 0.033, 0.01, 0.0033, \n",
    "                        0.001, 0.00033, 0.0001]}\n",
    "\n",
    "    random_rbfSVC = RandomizedSearchCV(rbfSVC, param_distributions = hyperparam, cv = 5,\n",
    "                                    n_iter = 5, n_jobs=2, random_state = 123)\n",
    "    \n",
    "    random_rbfSVC.fit(x_train, y_train)\n",
    "    \n",
    "    print (\"Best Accuracy\", random_rbfSVC.score(x_train, y_train))\n",
    "    print (\"Best Param\", random_rbfSVC.best_params_)\n",
    "    \n",
    "    return random_rbfSVC "
   ]
  },
  {
   "cell_type": "code",
   "execution_count": 38,
   "metadata": {},
   "outputs": [
    {
     "name": "stdout",
     "output_type": "stream",
     "text": [
      "Best Accuracy 0.97247706422\n",
      "Best Param {'C': 10}\n"
     ]
    }
   ],
   "source": [
    "best_rbfSVC = rbfSVC_fit(x_train_concat, y_train)"
   ]
  },
  {
   "cell_type": "code",
   "execution_count": 39,
   "metadata": {},
   "outputs": [
    {
     "data": {
      "text/plain": [
       "SVC(C=10, cache_size=200, class_weight=None, coef0=0.0,\n",
       "  decision_function_shape='ovr', degree=3, gamma='auto', kernel='rbf',\n",
       "  max_iter=-1, probability=False, random_state=None, shrinking=True,\n",
       "  tol=0.001, verbose=False)"
      ]
     },
     "execution_count": 39,
     "metadata": {},
     "output_type": "execute_result"
    }
   ],
   "source": [
    "RBF_SVC = SVC(kernel='rbf', C = best_rbfSVC.best_params_.get('C'))\n",
    "RBF_SVC.fit(x_train_concat, y_train)"
   ]
  },
  {
   "cell_type": "code",
   "execution_count": 40,
   "metadata": {
    "collapsed": true
   },
   "outputs": [],
   "source": [
    "def linearSVC_fit(x_train, y_train):\n",
    "    linear_SVC = SVC(kernel = 'linear')\n",
    "\n",
    "    hyperparam = {'C': [1000, 333.33, 100, 33.33, 10, 3.33, 10, 3.33, 1, 0.33, 0.1, 0.033, 0.01, 0.0033, \n",
    "                        0.001, 0.00033, 0.0001]}\n",
    "\n",
    "    random_linear_SVC = RandomizedSearchCV(linear_SVC, param_distributions = hyperparam, cv = 5,\n",
    "                                    n_iter = 5, n_jobs=2, random_state = 123)\n",
    "    \n",
    "    random_linear_SVC.fit(x_train, y_train)\n",
    "    \n",
    "    print (\"Best Accuracy\", random_linear_SVC.score(x_train, y_train))\n",
    "    print (\"Best Param\", random_linear_SVC.best_params_)\n",
    "    \n",
    "    return random_linear_SVC "
   ]
  },
  {
   "cell_type": "code",
   "execution_count": 41,
   "metadata": {
    "scrolled": true
   },
   "outputs": [
    {
     "name": "stdout",
     "output_type": "stream",
     "text": [
      "Best Accuracy 0.905025020851\n",
      "Best Param {'C': 10}\n"
     ]
    }
   ],
   "source": [
    "best_linear_rbf_SVC = linearSVC_fit(x_train_concat, y_train)"
   ]
  },
  {
   "cell_type": "code",
   "execution_count": 67,
   "metadata": {},
   "outputs": [
    {
     "data": {
      "text/plain": [
       "SVC(C=10, cache_size=200, class_weight=None, coef0=0.0,\n",
       "  decision_function_shape='ovr', degree=3, gamma='auto', kernel='linear',\n",
       "  max_iter=-1, probability=False, random_state=None, shrinking=True,\n",
       "  tol=0.001, verbose=False)"
      ]
     },
     "execution_count": 67,
     "metadata": {},
     "output_type": "execute_result"
    }
   ],
   "source": [
    "Linear_SVC = SVC(kernel = 'linear', C=best_linear_rbf_SVC.best_params_.get('C'))\n",
    "Linear_SVC.fit(x_train_concat, y_train)"
   ]
  },
  {
   "cell_type": "code",
   "execution_count": 43,
   "metadata": {
    "collapsed": true
   },
   "outputs": [],
   "source": [
    "def logreg_fit(x_train, y_train):\n",
    "    logreg = LogisticRegression()\n",
    "\n",
    "    hyperparam = {'C': [1000, 333.33, 100, 33.33, 10, 3.33, 10, 3.33, 1, 0.33, 0.1, 0.033, 0.01, 0.0033, \n",
    "                        0.001, 0.00033, 0.0001],\n",
    "                 'penalty': ['l1', 'l2']}\n",
    "\n",
    "    random_logreg = RandomizedSearchCV(logreg, param_distributions = hyperparam, cv = 5,\n",
    "                                    n_iter = 15, n_jobs=2, random_state = 123)\n",
    "    \n",
    "    random_logreg.fit(x_train, y_train)\n",
    "    \n",
    "    print (\"Best Accuracy\", random_logreg.score(x_train, y_train))\n",
    "    print (\"Best Param\", random_logreg.best_params_)\n",
    "    \n",
    "    return random_logreg"
   ]
  },
  {
   "cell_type": "code",
   "execution_count": 44,
   "metadata": {},
   "outputs": [
    {
     "name": "stdout",
     "output_type": "stream",
     "text": [
      "Best Accuracy 0.905025020851\n",
      "Best Param {'penalty': 'l1', 'C': 10}\n"
     ]
    }
   ],
   "source": [
    "best_logreg = logreg_fit(x_train_concat, y_train)"
   ]
  },
  {
   "cell_type": "code",
   "execution_count": 70,
   "metadata": {},
   "outputs": [
    {
     "data": {
      "text/plain": [
       "LogisticRegression(C=10, class_weight=None, dual=False, fit_intercept=True,\n",
       "          intercept_scaling=1, max_iter=100, multi_class='ovr', n_jobs=1,\n",
       "          penalty='l1', random_state=None, solver='liblinear', tol=0.0001,\n",
       "          verbose=0, warm_start=False)"
      ]
     },
     "execution_count": 70,
     "metadata": {},
     "output_type": "execute_result"
    }
   ],
   "source": [
    "logreg = LogisticRegression(C=best_logreg.best_params_.get('C'), \n",
    "                            penalty=best_logreg.best_params_.get('penalty'))\n",
    "logreg.fit(x_train_concat, y_train)"
   ]
  },
  {
   "cell_type": "markdown",
   "metadata": {},
   "source": [
    "## Score model predictions"
   ]
  },
  {
   "cell_type": "code",
   "execution_count": 46,
   "metadata": {
    "collapsed": true
   },
   "outputs": [],
   "source": [
    "# Categorical\n",
    "def testCategoricalDummies(data, categorical_columns, label_encoder, label_binarizer,dummy_columns):\n",
    "    data = data[categorical_columns].fillna(\"KOSONG\")\n",
    "    dummy_variables = pd.DataFrame([])\n",
    "    \n",
    "    for i in categorical_columns:\n",
    "        label_en = label_encoder[i]\n",
    "        label_bin = label_binarizer[i]\n",
    "        \n",
    "        encoded = label_en.transform(data[i])\n",
    "        binary = label_bin.transform(encoded)\n",
    "        \n",
    "        if binary.shape[1] == 1:\n",
    "            dummy = pd.DataFrame(binary, index = data.index)\n",
    "        else:\n",
    "            dummy = pd.DataFrame(binary, index = data.index)\n",
    "        \n",
    "        dummy_variables = pd.concat([dummy_variables, dummy], axis = 1)\n",
    "    dummy_variables.columns = dummy_columns\n",
    "    return dummy_variables"
   ]
  },
  {
   "cell_type": "code",
   "execution_count": 47,
   "metadata": {
    "collapsed": true
   },
   "outputs": [],
   "source": [
    "def validData(numerical_columns, categorical_columns,data, imputer, standard,label_encoder, label_binarizer, dummy_columns):\n",
    "    \n",
    "    data_dummy = testCategoricalDummies(data, categorical_columns, label_encoder, label_binarizer, dummy_columns)\n",
    "    data_numeric_imput = TransformImputNum(data[numerical_columns], imputer=imputer)\n",
    "    data_numeric_std = TransformStandardize(data_numeric_imput, standard)\n",
    "    data_concat = pd.concat([data_numeric_std, data_dummy], axis=1)\n",
    "    \n",
    "    return data_concat"
   ]
  },
  {
   "cell_type": "code",
   "execution_count": 48,
   "metadata": {},
   "outputs": [
    {
     "name": "stdout",
     "output_type": "stream",
     "text": [
      "satisfaction_level      0\n",
      "last_evaluation         0\n",
      "number_project          0\n",
      "average_montly_hours    0\n",
      "time_spend_company      0\n",
      "dtype: int64\n",
      "      satisfaction_level  last_evaluation  number_project  \\\n",
      "6816                0.74             0.86             5.0   \n",
      "4649                0.19             0.64             6.0   \n",
      "3169                0.72             0.82             5.0   \n",
      "6485                0.63             1.00             5.0   \n",
      "9388                0.51             0.41             2.0   \n",
      "\n",
      "      average_montly_hours  time_spend_company  \n",
      "6816                 153.0                 2.0  \n",
      "4649                 222.0                 5.0  \n",
      "3169                 287.0                 3.0  \n",
      "6485                 241.0                 4.0  \n",
      "9388                 164.0                 4.0  \n",
      "      satisfaction_level  last_evaluation  number_project  \\\n",
      "6816            0.460725         0.844518        1.030968   \n",
      "4649           -1.812885        -0.463116        1.888871   \n",
      "3169            0.378049         0.606766        1.030968   \n",
      "6485            0.006003         1.676649        1.030968   \n",
      "9388           -0.490057        -1.830189       -1.542741   \n",
      "\n",
      "      average_montly_hours  time_spend_company  \n",
      "6816             -0.976367           -1.025091  \n",
      "4649              0.439734            1.245036  \n",
      "3169              1.773741           -0.268382  \n",
      "6485              0.829675            0.488327  \n",
      "9388             -0.750611            0.488327  \n"
     ]
    }
   ],
   "source": [
    "x_test_standardize = validData(numeric, categoric, x_test, imput, standard, label_encoder, label_binarizer, dummy_columns)"
   ]
  },
  {
   "cell_type": "code",
   "execution_count": 49,
   "metadata": {
    "collapsed": true
   },
   "outputs": [],
   "source": [
    "x_test_concat = x_test_standardize"
   ]
  },
  {
   "cell_type": "code",
   "execution_count": 50,
   "metadata": {},
   "outputs": [
    {
     "data": {
      "text/plain": [
       "(2399, 34)"
      ]
     },
     "execution_count": 50,
     "metadata": {},
     "output_type": "execute_result"
    }
   ],
   "source": [
    "x_test_concat.shape"
   ]
  },
  {
   "cell_type": "code",
   "execution_count": 51,
   "metadata": {},
   "outputs": [
    {
     "data": {
      "text/plain": [
       "(9592, 34)"
      ]
     },
     "execution_count": 51,
     "metadata": {},
     "output_type": "execute_result"
    }
   ],
   "source": [
    "x_train_concat.shape"
   ]
  },
  {
   "cell_type": "code",
   "execution_count": 52,
   "metadata": {},
   "outputs": [
    {
     "data": {
      "text/plain": [
       "0.83309007506255217"
      ]
     },
     "execution_count": 52,
     "metadata": {},
     "output_type": "execute_result"
    }
   ],
   "source": [
    "benchmark = y_train.value_counts(True)[0]\n",
    "benchmark"
   ]
  },
  {
   "cell_type": "code",
   "execution_count": 53,
   "metadata": {},
   "outputs": [
    {
     "data": {
      "text/plain": [
       "0.97247706422018354"
      ]
     },
     "execution_count": 53,
     "metadata": {},
     "output_type": "execute_result"
    }
   ],
   "source": [
    "RBF_SVC.score(x_train_concat, y_train)"
   ]
  },
  {
   "cell_type": "code",
   "execution_count": 54,
   "metadata": {
    "scrolled": true
   },
   "outputs": [
    {
     "data": {
      "text/plain": [
       "0.96748645268862021"
      ]
     },
     "execution_count": 54,
     "metadata": {},
     "output_type": "execute_result"
    }
   ],
   "source": [
    "RBF_SVC.score(x_test_concat, y_test)"
   ]
  },
  {
   "cell_type": "code",
   "execution_count": 77,
   "metadata": {},
   "outputs": [
    {
     "data": {
      "text/plain": [
       "0.90502502085070891"
      ]
     },
     "execution_count": 77,
     "metadata": {},
     "output_type": "execute_result"
    }
   ],
   "source": [
    "Linear_SVC.score(x_train_concat, y_train)"
   ]
  },
  {
   "cell_type": "code",
   "execution_count": 74,
   "metadata": {
    "scrolled": false
   },
   "outputs": [
    {
     "data": {
      "text/plain": [
       "0.90204251771571486"
      ]
     },
     "execution_count": 74,
     "metadata": {},
     "output_type": "execute_result"
    }
   ],
   "source": [
    "Linear_SVC.score(x_test_standardize, y_test)"
   ]
  },
  {
   "cell_type": "code",
   "execution_count": 78,
   "metadata": {},
   "outputs": [
    {
     "data": {
      "text/plain": [
       "0.90502502085070891"
      ]
     },
     "execution_count": 78,
     "metadata": {},
     "output_type": "execute_result"
    }
   ],
   "source": [
    "logreg.score(x_train_concat, y_train)"
   ]
  },
  {
   "cell_type": "code",
   "execution_count": 76,
   "metadata": {},
   "outputs": [
    {
     "data": {
      "text/plain": [
       "0.90204251771571486"
      ]
     },
     "execution_count": 76,
     "metadata": {},
     "output_type": "execute_result"
    }
   ],
   "source": [
    "logreg.score(x_test_standardize, y_test)"
   ]
  },
  {
   "cell_type": "markdown",
   "metadata": {},
   "source": [
    "## Feature Engineering"
   ]
  },
  {
   "cell_type": "code",
   "execution_count": 150,
   "metadata": {
    "collapsed": true
   },
   "outputs": [],
   "source": [
    "x[\"satisfaction_hour\"] = x[\"satisfaction_level\"] * x[\"average_montly_hours\"]\n",
    "x[\"dissatisfaction_hour\"] = x[\"average_montly_hours\"] - x[\"satisfaction_hour\"]\n",
    "\n",
    "x[\"satisfaction_project\"] = x[\"satisfaction_level\"] * x[\"number_project\"]\n",
    "x[\"dissatisfaction_project\"] = x[\"number_project\"] - x[\"satisfaction_project\"]\n",
    "\n",
    "x[\"project_hour_average\"] = x[\"average_montly_hours\"]/x[\"number_project\"]"
   ]
  },
  {
   "cell_type": "code",
   "execution_count": 151,
   "metadata": {},
   "outputs": [
    {
     "data": {
      "text/html": [
       "<div>\n",
       "<style>\n",
       "    .dataframe thead tr:only-child th {\n",
       "        text-align: right;\n",
       "    }\n",
       "\n",
       "    .dataframe thead th {\n",
       "        text-align: left;\n",
       "    }\n",
       "\n",
       "    .dataframe tbody tr th {\n",
       "        vertical-align: top;\n",
       "    }\n",
       "</style>\n",
       "<table border=\"1\" class=\"dataframe\">\n",
       "  <thead>\n",
       "    <tr style=\"text-align: right;\">\n",
       "      <th></th>\n",
       "      <th>satisfaction_level</th>\n",
       "      <th>last_evaluation</th>\n",
       "      <th>number_project</th>\n",
       "      <th>average_montly_hours</th>\n",
       "      <th>time_spend_company</th>\n",
       "      <th>Work_accident</th>\n",
       "      <th>promotion_last_5years</th>\n",
       "      <th>division</th>\n",
       "      <th>salary</th>\n",
       "      <th>satisfaction_hour</th>\n",
       "      <th>dissatisfaction_hour</th>\n",
       "      <th>satisfaction_project</th>\n",
       "      <th>dissatisfaction_project</th>\n",
       "      <th>project_hour_average</th>\n",
       "    </tr>\n",
       "  </thead>\n",
       "  <tbody>\n",
       "    <tr>\n",
       "      <th>0</th>\n",
       "      <td>0.38</td>\n",
       "      <td>0.53</td>\n",
       "      <td>2</td>\n",
       "      <td>157</td>\n",
       "      <td>3</td>\n",
       "      <td>0</td>\n",
       "      <td>0</td>\n",
       "      <td>sales</td>\n",
       "      <td>low</td>\n",
       "      <td>59.66</td>\n",
       "      <td>97.34</td>\n",
       "      <td>0.76</td>\n",
       "      <td>1.24</td>\n",
       "      <td>78.500000</td>\n",
       "    </tr>\n",
       "    <tr>\n",
       "      <th>1</th>\n",
       "      <td>0.80</td>\n",
       "      <td>0.86</td>\n",
       "      <td>5</td>\n",
       "      <td>262</td>\n",
       "      <td>6</td>\n",
       "      <td>0</td>\n",
       "      <td>0</td>\n",
       "      <td>sales</td>\n",
       "      <td>medium</td>\n",
       "      <td>209.60</td>\n",
       "      <td>52.40</td>\n",
       "      <td>4.00</td>\n",
       "      <td>1.00</td>\n",
       "      <td>52.400000</td>\n",
       "    </tr>\n",
       "    <tr>\n",
       "      <th>2</th>\n",
       "      <td>0.11</td>\n",
       "      <td>0.88</td>\n",
       "      <td>7</td>\n",
       "      <td>272</td>\n",
       "      <td>4</td>\n",
       "      <td>0</td>\n",
       "      <td>0</td>\n",
       "      <td>sales</td>\n",
       "      <td>medium</td>\n",
       "      <td>29.92</td>\n",
       "      <td>242.08</td>\n",
       "      <td>0.77</td>\n",
       "      <td>6.23</td>\n",
       "      <td>38.857143</td>\n",
       "    </tr>\n",
       "    <tr>\n",
       "      <th>3</th>\n",
       "      <td>0.72</td>\n",
       "      <td>0.87</td>\n",
       "      <td>5</td>\n",
       "      <td>223</td>\n",
       "      <td>5</td>\n",
       "      <td>0</td>\n",
       "      <td>0</td>\n",
       "      <td>sales</td>\n",
       "      <td>low</td>\n",
       "      <td>160.56</td>\n",
       "      <td>62.44</td>\n",
       "      <td>3.60</td>\n",
       "      <td>1.40</td>\n",
       "      <td>44.600000</td>\n",
       "    </tr>\n",
       "    <tr>\n",
       "      <th>4</th>\n",
       "      <td>0.37</td>\n",
       "      <td>0.52</td>\n",
       "      <td>2</td>\n",
       "      <td>159</td>\n",
       "      <td>3</td>\n",
       "      <td>0</td>\n",
       "      <td>0</td>\n",
       "      <td>sales</td>\n",
       "      <td>low</td>\n",
       "      <td>58.83</td>\n",
       "      <td>100.17</td>\n",
       "      <td>0.74</td>\n",
       "      <td>1.26</td>\n",
       "      <td>79.500000</td>\n",
       "    </tr>\n",
       "  </tbody>\n",
       "</table>\n",
       "</div>"
      ],
      "text/plain": [
       "   satisfaction_level  last_evaluation  number_project  average_montly_hours  \\\n",
       "0                0.38             0.53               2                   157   \n",
       "1                0.80             0.86               5                   262   \n",
       "2                0.11             0.88               7                   272   \n",
       "3                0.72             0.87               5                   223   \n",
       "4                0.37             0.52               2                   159   \n",
       "\n",
       "   time_spend_company  Work_accident  promotion_last_5years division  salary  \\\n",
       "0                   3              0                      0    sales     low   \n",
       "1                   6              0                      0    sales  medium   \n",
       "2                   4              0                      0    sales  medium   \n",
       "3                   5              0                      0    sales     low   \n",
       "4                   3              0                      0    sales     low   \n",
       "\n",
       "   satisfaction_hour  dissatisfaction_hour  satisfaction_project  \\\n",
       "0              59.66                 97.34                  0.76   \n",
       "1             209.60                 52.40                  4.00   \n",
       "2              29.92                242.08                  0.77   \n",
       "3             160.56                 62.44                  3.60   \n",
       "4              58.83                100.17                  0.74   \n",
       "\n",
       "   dissatisfaction_project  project_hour_average  \n",
       "0                     1.24             78.500000  \n",
       "1                     1.00             52.400000  \n",
       "2                     6.23             38.857143  \n",
       "3                     1.40             44.600000  \n",
       "4                     1.26             79.500000  "
      ]
     },
     "execution_count": 151,
     "metadata": {},
     "output_type": "execute_result"
    }
   ],
   "source": [
    "x.head()"
   ]
  },
  {
   "cell_type": "code",
   "execution_count": 152,
   "metadata": {
    "collapsed": true
   },
   "outputs": [],
   "source": [
    "from sklearn.model_selection import train_test_split"
   ]
  },
  {
   "cell_type": "code",
   "execution_count": 153,
   "metadata": {
    "collapsed": true
   },
   "outputs": [],
   "source": [
    "x_train, x_test, y_train, y_test = train_test_split(x,y, test_size=0.4, random_state = 123)"
   ]
  },
  {
   "cell_type": "code",
   "execution_count": 154,
   "metadata": {},
   "outputs": [
    {
     "data": {
      "text/plain": [
       "satisfaction_level         0\n",
       "last_evaluation            0\n",
       "number_project             0\n",
       "average_montly_hours       0\n",
       "time_spend_company         0\n",
       "Work_accident              0\n",
       "promotion_last_5years      0\n",
       "division                   0\n",
       "salary                     0\n",
       "satisfaction_hour          0\n",
       "dissatisfaction_hour       0\n",
       "satisfaction_project       0\n",
       "dissatisfaction_project    0\n",
       "project_hour_average       0\n",
       "dtype: int64"
      ]
     },
     "execution_count": 154,
     "metadata": {},
     "output_type": "execute_result"
    }
   ],
   "source": [
    "x_train.isnull().sum()"
   ]
  },
  {
   "cell_type": "code",
   "execution_count": 155,
   "metadata": {},
   "outputs": [
    {
     "name": "stdout",
     "output_type": "stream",
     "text": [
      "0.73    134\n",
      "0.50    129\n",
      "0.84    128\n",
      "0.89    125\n",
      "0.79    121\n",
      "0.74    119\n",
      "0.83    119\n",
      "0.72    118\n",
      "0.57    115\n",
      "0.66    114\n",
      "0.76    114\n",
      "0.10    113\n",
      "0.75    112\n",
      "0.77    112\n",
      "0.80    111\n",
      "0.63    111\n",
      "0.11    111\n",
      "0.82    110\n",
      "0.91    110\n",
      "0.49    109\n",
      "0.59    108\n",
      "0.78    106\n",
      "0.90    106\n",
      "0.54    105\n",
      "0.52    103\n",
      "0.60    103\n",
      "0.69    103\n",
      "0.56    102\n",
      "0.98    102\n",
      "0.61    101\n",
      "       ... \n",
      "1.00     66\n",
      "0.38     66\n",
      "0.41     57\n",
      "0.36     52\n",
      "0.24     46\n",
      "0.15     46\n",
      "0.17     43\n",
      "0.18     41\n",
      "0.14     36\n",
      "0.22     35\n",
      "0.21     35\n",
      "0.23     35\n",
      "0.46     34\n",
      "0.13     33\n",
      "0.16     33\n",
      "0.20     32\n",
      "0.19     31\n",
      "0.32     29\n",
      "0.31     28\n",
      "0.30     26\n",
      "0.34     26\n",
      "0.35     26\n",
      "0.33     22\n",
      "0.12     18\n",
      "0.29     17\n",
      "0.47     16\n",
      "0.26     16\n",
      "0.27     15\n",
      "0.28     14\n",
      "0.25     14\n",
      "Name: satisfaction_level, Length: 92, dtype: int64 \n",
      "\n",
      "\n",
      "0.55    168\n",
      "0.57    164\n",
      "0.90    159\n",
      "0.85    156\n",
      "0.51    153\n",
      "0.49    146\n",
      "0.54    145\n",
      "0.89    144\n",
      "0.53    143\n",
      "0.87    142\n",
      "0.50    141\n",
      "0.52    140\n",
      "0.86    139\n",
      "0.56    138\n",
      "0.97    138\n",
      "0.59    137\n",
      "0.75    134\n",
      "0.84    134\n",
      "0.77    132\n",
      "0.93    131\n",
      "0.74    130\n",
      "0.58    129\n",
      "0.95    128\n",
      "0.96    126\n",
      "0.91    125\n",
      "0.81    125\n",
      "1.00    125\n",
      "0.99    122\n",
      "0.62    122\n",
      "0.67    121\n",
      "       ... \n",
      "0.92    120\n",
      "0.48    119\n",
      "0.66    119\n",
      "0.61    119\n",
      "0.80    118\n",
      "0.94    118\n",
      "0.79    117\n",
      "0.68    116\n",
      "0.65    115\n",
      "0.88    114\n",
      "0.70    110\n",
      "0.72    110\n",
      "0.82    109\n",
      "0.60    107\n",
      "0.73    107\n",
      "0.71    103\n",
      "0.78    103\n",
      "0.69    100\n",
      "0.47     77\n",
      "0.46     76\n",
      "0.45     46\n",
      "0.41     32\n",
      "0.37     32\n",
      "0.42     28\n",
      "0.39     27\n",
      "0.43     26\n",
      "0.40     26\n",
      "0.44     24\n",
      "0.38     21\n",
      "0.36     15\n",
      "Name: last_evaluation, Length: 65, dtype: int64 \n",
      "\n",
      "\n",
      "4    2188\n",
      "3    2109\n",
      "5    1347\n",
      "2     966\n",
      "6     504\n",
      "7      80\n",
      "Name: number_project, dtype: int64 \n",
      "\n",
      "\n",
      "156    73\n",
      "160    69\n",
      "155    64\n",
      "135    63\n",
      "157    63\n",
      "260    63\n",
      "143    61\n",
      "149    60\n",
      "145    59\n",
      "151    59\n",
      "257    58\n",
      "258    58\n",
      "150    57\n",
      "148    56\n",
      "271    56\n",
      "238    56\n",
      "147    55\n",
      "173    55\n",
      "229    55\n",
      "243    55\n",
      "245    55\n",
      "269    55\n",
      "266    55\n",
      "154    54\n",
      "152    54\n",
      "264    53\n",
      "136    53\n",
      "139    52\n",
      "142    52\n",
      "226    52\n",
      "       ..\n",
      "305     7\n",
      "306     7\n",
      "107     6\n",
      "310     6\n",
      "289     6\n",
      "102     6\n",
      "304     6\n",
      "120     6\n",
      "122     5\n",
      "288     5\n",
      "296     5\n",
      "303     5\n",
      "119     5\n",
      "291     5\n",
      "299     5\n",
      "307     4\n",
      "96      4\n",
      "297     4\n",
      "302     4\n",
      "99      4\n",
      "292     3\n",
      "300     3\n",
      "293     3\n",
      "118     3\n",
      "294     3\n",
      "116     3\n",
      "298     3\n",
      "309     3\n",
      "295     2\n",
      "290     1\n",
      "Name: average_montly_hours, Length: 215, dtype: int64 \n",
      "\n",
      "\n",
      "3     3151\n",
      "2     1760\n",
      "4     1171\n",
      "5      625\n",
      "6      320\n",
      "10      59\n",
      "7       58\n",
      "8       50\n",
      "Name: time_spend_company, dtype: int64 \n",
      "\n",
      "\n",
      "0    6095\n",
      "1    1099\n",
      "Name: Work_accident, dtype: int64 \n",
      "\n",
      "\n",
      "0    7079\n",
      "1     115\n",
      "Name: promotion_last_5years, dtype: int64 \n",
      "\n",
      "\n",
      "sales          1976\n",
      "technical      1352\n",
      "support        1070\n",
      "IT              586\n",
      "product_mng     424\n",
      "marketing       407\n",
      "RandD           400\n",
      "accounting      373\n",
      "hr              353\n",
      "management      253\n",
      "Name: division, dtype: int64 \n",
      "\n",
      "\n",
      "low       3461\n",
      "medium    3131\n",
      "high       602\n",
      "Name: salary, dtype: int64 \n",
      "\n",
      "\n",
      "117.60    10\n",
      "126.72     9\n",
      "108.00     9\n",
      "68.64      8\n",
      "105.00     8\n",
      "161.28     8\n",
      "156.00     8\n",
      "111.00     8\n",
      "132.30     7\n",
      "132.60     7\n",
      "112.20     7\n",
      "67.51      7\n",
      "28.60      7\n",
      "131.20     7\n",
      "49.53      7\n",
      "174.72     7\n",
      "196.56     6\n",
      "154.38     6\n",
      "143.64     6\n",
      "59.20      6\n",
      "132.00     6\n",
      "166.50     6\n",
      "111.60     6\n",
      "54.72      6\n",
      "57.20      6\n",
      "109.20     6\n",
      "58.05      6\n",
      "126.00     6\n",
      "184.50     6\n",
      "100.80     6\n",
      "          ..\n",
      "154.78     1\n",
      "212.16     1\n",
      "128.01     1\n",
      "129.36     1\n",
      "222.95     1\n",
      "151.42     1\n",
      "117.64     1\n",
      "119.50     1\n",
      "69.68      1\n",
      "213.00     1\n",
      "69.60      1\n",
      "131.08     1\n",
      "225.40     1\n",
      "25.83      1\n",
      "99.50      1\n",
      "243.86     1\n",
      "21.45      1\n",
      "194.54     1\n",
      "150.57     1\n",
      "71.50      1\n",
      "223.25     1\n",
      "193.00     1\n",
      "82.68      1\n",
      "170.28     1\n",
      "94.50      1\n",
      "58.00      1\n",
      "29.28      1\n",
      "254.43     1\n",
      "59.52      1\n",
      "35.88      1\n",
      "Name: satisfaction_hour, Length: 4438, dtype: int64 \n",
      "\n",
      "\n",
      "0.00      66\n",
      "54.00      9\n",
      "81.20      8\n",
      "72.00      8\n",
      "86.80      8\n",
      "89.76      8\n",
      "28.80      8\n",
      "85.50      8\n",
      "87.36      8\n",
      "76.80      7\n",
      "81.60      7\n",
      "89.49      7\n",
      "65.28      7\n",
      "90.00      7\n",
      "77.47      7\n",
      "78.00      7\n",
      "19.04      7\n",
      "55.44      6\n",
      "75.90      6\n",
      "57.20      6\n",
      "68.60      6\n",
      "35.28      6\n",
      "95.16      6\n",
      "83.79      6\n",
      "41.76      6\n",
      "93.24      6\n",
      "32.40      6\n",
      "74.00      6\n",
      "72.80      6\n",
      "93.00      6\n",
      "          ..\n",
      "91.77      1\n",
      "57.35      1\n",
      "98.45      1\n",
      "61.60      1\n",
      "8.10       1\n",
      "82.28      1\n",
      "91.96      1\n",
      "19.03      1\n",
      "60.04      1\n",
      "143.48     1\n",
      "111.11     1\n",
      "71.68      1\n",
      "59.74      1\n",
      "105.79     1\n",
      "44.52      1\n",
      "32.13      1\n",
      "201.48     1\n",
      "257.21     1\n",
      "70.25      1\n",
      "90.30      1\n",
      "136.23     1\n",
      "49.22      1\n",
      "169.68     1\n",
      "20.24      1\n",
      "76.76      1\n",
      "44.02      1\n",
      "91.52      1\n",
      "88.00      1\n",
      "250.09     1\n",
      "37.25      1\n",
      "Name: dissatisfaction_hour, Length: 4431, dtype: int64 \n",
      "\n",
      "\n",
      "0.66    96\n",
      "2.52    95\n",
      "3.00    91\n",
      "2.88    90\n",
      "2.16    87\n",
      "0.60    78\n",
      "2.64    77\n",
      "2.04    76\n",
      "0.80    74\n",
      "1.92    73\n",
      "0.78    73\n",
      "0.86    69\n",
      "0.74    68\n",
      "0.88    67\n",
      "2.70    61\n",
      "1.50    60\n",
      "0.54    58\n",
      "0.76    57\n",
      "0.72    57\n",
      "0.84    56\n",
      "3.80    55\n",
      "2.55    54\n",
      "2.00    53\n",
      "3.20    53\n",
      "2.96    51\n",
      "2.85    51\n",
      "3.56    50\n",
      "0.90    50\n",
      "1.44    50\n",
      "2.60    49\n",
      "        ..\n",
      "3.66     2\n",
      "3.06     2\n",
      "5.70     2\n",
      "5.10     2\n",
      "0.32     2\n",
      "3.18     2\n",
      "3.72     2\n",
      "1.78     2\n",
      "2.30     2\n",
      "0.27     1\n",
      "0.26     1\n",
      "0.44     1\n",
      "0.57     1\n",
      "4.13     1\n",
      "1.70     1\n",
      "0.42     1\n",
      "5.52     1\n",
      "0.42     1\n",
      "3.48     1\n",
      "4.14     1\n",
      "0.58     1\n",
      "0.38     1\n",
      "1.40     1\n",
      "0.40     1\n",
      "5.76     1\n",
      "5.88     1\n",
      "4.26     1\n",
      "0.46     1\n",
      "0.20     1\n",
      "4.98     1\n",
      "Name: satisfaction_project, Length: 303, dtype: int64 \n",
      "\n",
      "\n",
      "1.08    111\n",
      "1.12    106\n",
      "1.14    103\n",
      "0.96     95\n",
      "1.20     91\n",
      "0.84     89\n",
      "0.48     83\n",
      "5.34     81\n",
      "1.32     79\n",
      "1.00     77\n",
      "0.90     77\n",
      "1.56     76\n",
      "0.12     74\n",
      "1.16     74\n",
      "1.05     72\n",
      "5.40     72\n",
      "0.80     70\n",
      "2.00     68\n",
      "1.26     68\n",
      "1.50     67\n",
      "0.00     66\n",
      "0.36     66\n",
      "0.45     62\n",
      "1.22     62\n",
      "0.60     62\n",
      "0.15     61\n",
      "1.44     60\n",
      "1.20     60\n",
      "1.04     58\n",
      "1.48     57\n",
      "       ... \n",
      "2.84      2\n",
      "1.44      2\n",
      "1.72      2\n",
      "0.22      2\n",
      "2.82      2\n",
      "2.40      2\n",
      "2.31      2\n",
      "1.42      1\n",
      "2.58      1\n",
      "2.73      1\n",
      "5.53      1\n",
      "2.43      1\n",
      "0.48      1\n",
      "5.11      1\n",
      "5.95      1\n",
      "2.75      1\n",
      "2.96      1\n",
      "4.44      1\n",
      "1.02      1\n",
      "1.58      1\n",
      "1.54      1\n",
      "4.38      1\n",
      "1.46      1\n",
      "1.86      1\n",
      "2.87      1\n",
      "5.32      1\n",
      "2.38      1\n",
      "2.52      1\n",
      "1.74      1\n",
      "1.80      1\n",
      "Name: dissatisfaction_project, Length: 340, dtype: int64 \n",
      "\n",
      "\n",
      "54.000000     59\n",
      "50.000000     55\n",
      "65.000000     54\n",
      "52.000000     53\n",
      "68.000000     50\n",
      "48.000000     50\n",
      "46.000000     48\n",
      "66.000000     47\n",
      "56.000000     47\n",
      "49.000000     47\n",
      "64.000000     45\n",
      "64.500000     44\n",
      "62.000000     40\n",
      "78.000000     40\n",
      "67.500000     39\n",
      "45.000000     39\n",
      "53.000000     39\n",
      "51.000000     37\n",
      "67.000000     37\n",
      "47.000000     36\n",
      "63.000000     36\n",
      "70.000000     35\n",
      "44.000000     35\n",
      "55.000000     35\n",
      "60.000000     35\n",
      "71.000000     33\n",
      "79.000000     32\n",
      "61.000000     32\n",
      "37.000000     32\n",
      "68.500000     32\n",
      "              ..\n",
      "139.500000     1\n",
      "43.857143      1\n",
      "41.714286      1\n",
      "113.500000     1\n",
      "32.714286      1\n",
      "32.833333      1\n",
      "19.400000      1\n",
      "143.500000     1\n",
      "39.571429      1\n",
      "130.500000     1\n",
      "35.714286      1\n",
      "106.000000     1\n",
      "23.400000      1\n",
      "115.000000     1\n",
      "32.166667      1\n",
      "123.000000     1\n",
      "25.200000      1\n",
      "130.000000     1\n",
      "91.500000      1\n",
      "21.333333      1\n",
      "21.400000      1\n",
      "23.800000      1\n",
      "27.250000      1\n",
      "26.666667      1\n",
      "57.400000      1\n",
      "22.333333      1\n",
      "102.333333     1\n",
      "26.250000      1\n",
      "25.750000      1\n",
      "42.428571      1\n",
      "Name: project_hour_average, Length: 728, dtype: int64 \n",
      "\n",
      "\n"
     ]
    }
   ],
   "source": [
    "for i in x_train.columns:\n",
    "    print(x_train[i].value_counts(), '\\n\\n')"
   ]
  },
  {
   "cell_type": "code",
   "execution_count": 156,
   "metadata": {
    "collapsed": true
   },
   "outputs": [],
   "source": [
    "categoric = ['promotion_last_5years', 'division', 'salary', 'Work_accident']\n",
    "categoric_numeric = ['number_project', 'time_spend_company']\n",
    "drop = ['left']\n",
    "numeric = [x for x in x.columns if x not in categoric and x not in drop]"
   ]
  },
  {
   "cell_type": "code",
   "execution_count": 157,
   "metadata": {},
   "outputs": [
    {
     "data": {
      "text/plain": [
       "['satisfaction_level',\n",
       " 'last_evaluation',\n",
       " 'number_project',\n",
       " 'average_montly_hours',\n",
       " 'time_spend_company',\n",
       " 'satisfaction_hour',\n",
       " 'dissatisfaction_hour',\n",
       " 'satisfaction_project',\n",
       " 'dissatisfaction_project',\n",
       " 'project_hour_average']"
      ]
     },
     "execution_count": 157,
     "metadata": {},
     "output_type": "execute_result"
    }
   ],
   "source": [
    "numeric"
   ]
  },
  {
   "cell_type": "code",
   "execution_count": 158,
   "metadata": {
    "collapsed": true
   },
   "outputs": [],
   "source": [
    "from sklearn.preprocessing import LabelBinarizer, LabelEncoder"
   ]
  },
  {
   "cell_type": "code",
   "execution_count": 159,
   "metadata": {
    "collapsed": true
   },
   "outputs": [],
   "source": [
    "def categoricalDummies(data):\n",
    "    data = data.fillna(\"KOSONG\")\n",
    "    dummy_variables = pd.DataFrame([])\n",
    "    label_encoder = pd.Series([])\n",
    "    label_binarizer = pd.Series([])\n",
    "    \n",
    "    for i in list(data):\n",
    "        label_en = LabelEncoder()\n",
    "        label_bin = LabelBinarizer()\n",
    "        \n",
    "        encoded = label_en.fit_transform(data[i])\n",
    "        binary = label_bin.fit_transform(encoded)\n",
    "        \n",
    "        if binary.shape[1] == 1:\n",
    "            dummy = pd.DataFrame(binary, columns = [i], index = data.index)\n",
    "        else:\n",
    "            dummy = pd.DataFrame(binary, columns=[\"{}_{}\".format(a, b) for b in sorted(data[i].unique())\n",
    "                                              for a in [i]], \n",
    "                             index = data.index)\n",
    "        \n",
    "        dummy_variables = pd.concat([dummy_variables, dummy], axis = 1)\n",
    "        label_encoder[i] = label_en\n",
    "        label_binarizer[i] = label_bin\n",
    "        \n",
    "    return dummy_variables, label_encoder, label_binarizer, dummy_variables.columns"
   ]
  },
  {
   "cell_type": "code",
   "execution_count": 160,
   "metadata": {
    "collapsed": true
   },
   "outputs": [],
   "source": [
    "data_train_dummy,label_encoder, label_binarizer, dummy_columns = categoricalDummies(x_train[categoric])"
   ]
  },
  {
   "cell_type": "code",
   "execution_count": 161,
   "metadata": {},
   "outputs": [
    {
     "data": {
      "text/plain": [
       "(7194, 15)"
      ]
     },
     "execution_count": 161,
     "metadata": {},
     "output_type": "execute_result"
    }
   ],
   "source": [
    "data_train_dummy.shape"
   ]
  },
  {
   "cell_type": "code",
   "execution_count": 162,
   "metadata": {
    "collapsed": true
   },
   "outputs": [],
   "source": [
    "def imputCategoric(data, categoric_column):\n",
    "    data_categoric = data[categoric_column]\n",
    "    data_cat_imput = data_categoric.fillna(\"KOSONG\")\n",
    "    jumlah = 0\n",
    "    for i in data_cat_imput.columns: # Banyaknya kategori di setiap kolom\n",
    "        data_cat_imput[i] = data_cat_imput[i].astype('category')\n",
    "        jumlah +=len(data_cat_imput[i].value_counts())\n",
    "    print(jumlah)\n",
    "    data_cat_dummy = pd.get_dummies(data_cat_imput) \n",
    "    print(len(data_cat_dummy.columns)) # Banyaknya kolom\n",
    "    return data_cat_dummy"
   ]
  },
  {
   "cell_type": "code",
   "execution_count": 163,
   "metadata": {
    "scrolled": true
   },
   "outputs": [
    {
     "data": {
      "text/plain": [
       "promotion_last_5years    0\n",
       "division_IT              0\n",
       "division_RandD           0\n",
       "division_accounting      0\n",
       "division_hr              0\n",
       "division_management      0\n",
       "division_marketing       0\n",
       "division_product_mng     0\n",
       "division_sales           0\n",
       "division_support         0\n",
       "division_technical       0\n",
       "salary_high              0\n",
       "salary_low               0\n",
       "salary_medium            0\n",
       "Work_accident            0\n",
       "dtype: int64"
      ]
     },
     "execution_count": 163,
     "metadata": {},
     "output_type": "execute_result"
    }
   ],
   "source": [
    "data_train_dummy.isnull().sum()"
   ]
  },
  {
   "cell_type": "markdown",
   "metadata": {},
   "source": [
    "## Numerical Imputation"
   ]
  },
  {
   "cell_type": "code",
   "execution_count": 164,
   "metadata": {
    "collapsed": true
   },
   "outputs": [],
   "source": [
    "from sklearn.preprocessing import Imputer\n",
    "def fitImputNum(data,column_numeric, missing_values, method):\n",
    "    imput = Imputer(missing_values=missing_values, strategy = method)\n",
    "    imput.fit(data[column_numeric])\n",
    "    return data[column_numeric], imput"
   ]
  },
  {
   "cell_type": "code",
   "execution_count": 165,
   "metadata": {
    "collapsed": true
   },
   "outputs": [],
   "source": [
    "x_train_numeric, imput = fitImputNum(x_train, numeric, 'NaN', 'median')"
   ]
  },
  {
   "cell_type": "code",
   "execution_count": 166,
   "metadata": {
    "collapsed": true
   },
   "outputs": [],
   "source": [
    "def transformImput(data, imputer):\n",
    "    data_numeric = pd.DataFrame(imputer.transform(data))\n",
    "    data_numeric.columns = data.columns\n",
    "    data_numeric.index = data.index\n",
    "    print(data_numeric.isnull().sum())\n",
    "    print(data_numeric.head())\n",
    "    return data_numeric"
   ]
  },
  {
   "cell_type": "code",
   "execution_count": 167,
   "metadata": {},
   "outputs": [
    {
     "name": "stdout",
     "output_type": "stream",
     "text": [
      "satisfaction_level         0\n",
      "last_evaluation            0\n",
      "number_project             0\n",
      "average_montly_hours       0\n",
      "time_spend_company         0\n",
      "satisfaction_hour          0\n",
      "dissatisfaction_hour       0\n",
      "satisfaction_project       0\n",
      "dissatisfaction_project    0\n",
      "project_hour_average       0\n",
      "dtype: int64\n",
      "      satisfaction_level  last_evaluation  number_project  \\\n",
      "9146                0.91             0.71             3.0   \n",
      "8815                0.93             0.84             3.0   \n",
      "3998                0.67             0.82             4.0   \n",
      "4581                0.52             0.91             4.0   \n",
      "1634                0.39             0.48             2.0   \n",
      "\n",
      "      average_montly_hours  time_spend_company  satisfaction_hour  \\\n",
      "9146                 171.0                 2.0             155.61   \n",
      "8815                 159.0                 3.0             147.87   \n",
      "3998                 246.0                 4.0             164.82   \n",
      "4581                 187.0                 2.0              97.24   \n",
      "1634                 127.0                 3.0              49.53   \n",
      "\n",
      "      dissatisfaction_hour  satisfaction_project  dissatisfaction_project  \\\n",
      "9146                 15.39                  2.73                     0.27   \n",
      "8815                 11.13                  2.79                     0.21   \n",
      "3998                 81.18                  2.68                     1.32   \n",
      "4581                 89.76                  2.08                     1.92   \n",
      "1634                 77.47                  0.78                     1.22   \n",
      "\n",
      "      project_hour_average  \n",
      "9146                 57.00  \n",
      "8815                 53.00  \n",
      "3998                 61.50  \n",
      "4581                 46.75  \n",
      "1634                 63.50  \n"
     ]
    }
   ],
   "source": [
    "x_train_imput_num = transformImput(x_train_numeric, imputer =imput)"
   ]
  },
  {
   "cell_type": "code",
   "execution_count": 168,
   "metadata": {
    "collapsed": true
   },
   "outputs": [],
   "source": [
    "from sklearn.preprocessing import StandardScaler\n",
    "def fitStandardize(data):\n",
    "    standard = StandardScaler()\n",
    "    standard.fit(data)\n",
    "    return standard"
   ]
  },
  {
   "cell_type": "code",
   "execution_count": 169,
   "metadata": {
    "collapsed": true
   },
   "outputs": [],
   "source": [
    "def transformStandardize(data, standard):\n",
    "    data_standard = pd.DataFrame(standard.transform(data))\n",
    "    data_standard.columns = data.columns\n",
    "    data_standard.index = data.index\n",
    "    print(data_standard.head())\n",
    "    return data_standard"
   ]
  },
  {
   "cell_type": "code",
   "execution_count": 170,
   "metadata": {},
   "outputs": [
    {
     "name": "stdout",
     "output_type": "stream",
     "text": [
      "      satisfaction_level  last_evaluation  number_project  \\\n",
      "9146            1.164131        -0.049690       -0.685784   \n",
      "8815            1.246584         0.722377       -0.685784   \n",
      "3998            0.174699         0.603598        0.172520   \n",
      "4581           -0.443696         1.138106        0.172520   \n",
      "1634           -0.979639        -1.415654       -1.544089   \n",
      "\n",
      "      average_montly_hours  time_spend_company  satisfaction_hour  \\\n",
      "9146             -0.608224           -1.023948           0.501369   \n",
      "8815             -0.855232           -0.265320           0.371533   \n",
      "3998              0.935577            0.493309           0.655863   \n",
      "4581             -0.278880           -1.023948          -0.477769   \n",
      "1634             -1.513921           -0.265320          -1.278089   \n",
      "\n",
      "      dissatisfaction_hour  satisfaction_project  dissatisfaction_project  \\\n",
      "9146             -1.034591              0.332790                -0.919335   \n",
      "8815             -1.108743              0.384959                -0.966012   \n",
      "3998              0.110587              0.289316                -0.102490   \n",
      "4581              0.259936             -0.232373                 0.364278   \n",
      "1634              0.046009             -1.362701                -0.180285   \n",
      "\n",
      "      project_hour_average  \n",
      "9146              0.006658  \n",
      "8815             -0.199374  \n",
      "3998              0.238445  \n",
      "4581             -0.521301  \n",
      "1634              0.341462  \n"
     ]
    }
   ],
   "source": [
    "standard = fitStandardize(x_train_imput_num)\n",
    "x_train_num_standardize = transformStandardize(x_train_imput_num, standard=standard)"
   ]
  },
  {
   "cell_type": "code",
   "execution_count": 171,
   "metadata": {
    "collapsed": true
   },
   "outputs": [],
   "source": [
    "x_train_concat = pd.concat([x_train_num_standardize, data_train_dummy], axis =1)\n",
    "x_train_standardize = x_train_concat"
   ]
  },
  {
   "cell_type": "code",
   "execution_count": 172,
   "metadata": {},
   "outputs": [
    {
     "data": {
      "text/plain": [
       "(7194, 25)"
      ]
     },
     "execution_count": 172,
     "metadata": {},
     "output_type": "execute_result"
    }
   ],
   "source": [
    "x_train_standardize.shape"
   ]
  },
  {
   "cell_type": "markdown",
   "metadata": {},
   "source": [
    "## Training Machine Learning"
   ]
  },
  {
   "cell_type": "code",
   "execution_count": 173,
   "metadata": {
    "collapsed": true
   },
   "outputs": [],
   "source": [
    "from sklearn.svm import SVC\n",
    "from sklearn.linear_model import LogisticRegression\n",
    "from sklearn.model_selection import RandomizedSearchCV"
   ]
  },
  {
   "cell_type": "code",
   "execution_count": 174,
   "metadata": {
    "collapsed": true
   },
   "outputs": [],
   "source": [
    "def rbfSVC_fit(x_train, y_train):\n",
    "    rbfSVC = SVC(kernel = 'rbf')\n",
    "\n",
    "    hyperparam = {'C': [1000, 333.33, 100, 33.33, 10, 3.33, 10, 3.33, 1, 0.33, 0.1, 0.033, 0.01, 0.0033, \n",
    "                        0.001, 0.00033, 0.0001]}\n",
    "\n",
    "    random_rbfSVC = RandomizedSearchCV(rbfSVC, param_distributions = hyperparam, cv = 5,\n",
    "                                    n_iter = 5, n_jobs=2, random_state = 123)\n",
    "    \n",
    "    random_rbfSVC.fit(x_train, y_train)\n",
    "    \n",
    "    print (\"Best Accuracy\", random_rbfSVC.score(x_train, y_train))\n",
    "    print (\"Best Param\", random_rbfSVC.best_params_)\n",
    "    \n",
    "    return random_rbfSVC "
   ]
  },
  {
   "cell_type": "code",
   "execution_count": 175,
   "metadata": {},
   "outputs": [
    {
     "name": "stdout",
     "output_type": "stream",
     "text": [
      " 0.422057    134\n",
      "-0.526149    129\n",
      " 0.875547    128\n",
      " 1.081679    125\n",
      " 0.669415    121\n",
      " 0.463284    119\n",
      " 0.834321    119\n",
      " 0.380831    118\n",
      "-0.237564    115\n",
      " 0.545736    114\n",
      " 0.133473    114\n",
      "-2.175203    113\n",
      " 0.504510    112\n",
      " 0.586963    112\n",
      " 0.710642    111\n",
      "-2.133976    111\n",
      " 0.009794    111\n",
      " 0.793094    110\n",
      " 1.164131    110\n",
      "-0.567375    109\n",
      "-0.155112    108\n",
      " 1.122905    106\n",
      " 0.628189    106\n",
      "-0.361243    105\n",
      "-0.113885    103\n",
      "-0.443696    103\n",
      " 0.257152    103\n",
      "-0.278791    102\n",
      " 1.452716    102\n",
      "-0.072659    101\n",
      "            ... \n",
      " 1.535169     66\n",
      "-1.020865     66\n",
      "-0.897186     57\n",
      "-1.103318     52\n",
      "-1.598034     46\n",
      "-1.969071     46\n",
      "-1.886618     43\n",
      "-1.845392     41\n",
      "-2.010297     36\n",
      "-1.721713     35\n",
      "-1.680487     35\n",
      "-1.639260     35\n",
      "-0.691054     34\n",
      "-2.051524     33\n",
      "-1.927845     33\n",
      "-1.762939     32\n",
      "-1.804166     31\n",
      "-1.268223     29\n",
      "-1.309449     28\n",
      "-1.144544     26\n",
      "-1.185770     26\n",
      "-1.350676     26\n",
      "-1.226997     22\n",
      "-2.092750     18\n",
      "-1.391902     17\n",
      "-0.649828     16\n",
      "-1.515581     16\n",
      "-1.474355     15\n",
      "-1.433129     14\n",
      "-1.556808     14\n",
      "Name: satisfaction_level, Length: 92, dtype: int64 \n",
      "\n",
      "\n",
      "-0.999926    168\n",
      "-0.881146    164\n",
      " 1.078716    159\n",
      " 0.781767    156\n",
      "-1.237485    153\n",
      "-1.356264    146\n",
      "-1.059315    145\n",
      " 1.019326    144\n",
      "-1.118705    143\n",
      " 0.900546    142\n",
      "-1.296874    141\n",
      "-1.178095    140\n",
      " 0.841157    139\n",
      " 1.494444    138\n",
      "-0.940536    138\n",
      "-0.762367    137\n",
      " 0.187869    134\n",
      " 0.722377    134\n",
      " 0.306649    132\n",
      " 1.256885    131\n",
      " 0.128480    130\n",
      "-0.821756    129\n",
      " 1.375665    128\n",
      " 1.435054    126\n",
      " 1.138106    125\n",
      " 1.672613    125\n",
      " 0.544208    125\n",
      "-0.584197    122\n",
      " 1.613224    122\n",
      " 0.662987    121\n",
      "            ... \n",
      "-0.524808    120\n",
      "-0.346638    119\n",
      "-1.415654    119\n",
      "-0.643587    119\n",
      " 1.316275    118\n",
      " 0.484818    118\n",
      " 0.425428    117\n",
      "-0.227859    116\n",
      "-0.406028    115\n",
      " 0.959936    114\n",
      " 0.009700    110\n",
      "-0.109079    110\n",
      " 0.603598    109\n",
      " 0.069090    107\n",
      "-0.702977    107\n",
      " 0.366039    103\n",
      "-0.049690    103\n",
      "-0.168469    100\n",
      "-1.475044     77\n",
      "-1.534433     76\n",
      "-1.593823     46\n",
      "-2.068941     32\n",
      "-1.831382     32\n",
      "-1.771992     28\n",
      "-1.950162     27\n",
      "-1.890772     26\n",
      "-1.712603     26\n",
      "-1.653213     24\n",
      "-2.009552     21\n",
      "-2.128331     15\n",
      "Name: last_evaluation, Length: 65, dtype: int64 \n",
      "\n",
      "\n",
      " 0.172520    2188\n",
      "-0.685784    2109\n",
      " 1.030824    1347\n",
      "-1.544089     966\n",
      " 1.889128     504\n",
      " 2.747433      80\n",
      "Name: number_project, dtype: int64 \n",
      "\n",
      "\n",
      "-0.916984    73\n",
      "-0.834648    69\n",
      "-0.937569    64\n",
      "-1.349249    63\n",
      " 1.223753    63\n",
      "-0.896400    63\n",
      "-1.184577    61\n",
      "-1.061073    60\n",
      "-1.019905    59\n",
      "-1.143409    59\n",
      " 1.162001    58\n",
      " 1.182585    58\n",
      "-1.040489    57\n",
      " 0.770905    56\n",
      " 1.450177    56\n",
      "-1.081657    56\n",
      " 1.347257    55\n",
      "-0.567056    55\n",
      " 0.914993    55\n",
      " 1.409009    55\n",
      " 0.585649    55\n",
      "-1.102241    55\n",
      " 0.873825    55\n",
      "-0.958153    54\n",
      "-0.999321    54\n",
      " 1.306089    53\n",
      "-1.328665    53\n",
      "-1.205161    52\n",
      "-1.246329    52\n",
      "-1.266913    52\n",
      "             ..\n",
      "-1.822681     7\n",
      "-1.760929     7\n",
      "-2.028521     6\n",
      "-1.658009     6\n",
      " 2.129450     6\n",
      " 1.820690     6\n",
      "-1.925601     6\n",
      " 2.252954     6\n",
      "-1.616841     5\n",
      " 1.800106     5\n",
      " 2.026530     5\n",
      "-1.678593     5\n",
      " 1.861858     5\n",
      " 1.964778     5\n",
      " 2.108866     5\n",
      " 1.985362     4\n",
      "-2.090273     4\n",
      "-2.152026     4\n",
      " 2.088282     4\n",
      " 2.191202     4\n",
      " 1.882442     3\n",
      "-1.699177     3\n",
      "-1.740345     3\n",
      " 2.047114     3\n",
      " 2.005946     3\n",
      " 2.232370     3\n",
      " 1.923610     3\n",
      " 1.903026     3\n",
      " 1.944194     2\n",
      " 1.841274     1\n",
      "Name: average_montly_hours, Length: 215, dtype: int64 \n",
      "\n",
      "\n",
      "-0.265320    3151\n",
      "-1.023948    1760\n",
      " 0.493309    1171\n",
      " 1.251937     625\n",
      " 2.010566     320\n",
      " 5.045079      59\n",
      " 2.769194      58\n",
      " 3.527822      50\n",
      "Name: time_spend_company, dtype: int64 \n",
      "\n",
      "\n",
      "-0.136237    10\n",
      "-0.297274     9\n",
      " 0.016748     9\n",
      "-0.347598     8\n",
      "-0.246950     8\n",
      "-0.957525     8\n",
      " 0.596481     8\n",
      " 0.507911     8\n",
      "-1.610731     7\n",
      " 0.821933     7\n",
      "-1.629183     7\n",
      " 0.115383     7\n",
      " 0.110351     7\n",
      "-1.278089     7\n",
      " 0.091899     7\n",
      "-0.226820     7\n",
      "-0.976480     7\n",
      "-1.115878     6\n",
      " 0.480736     6\n",
      " 1.357380     6\n",
      "-1.142717     6\n",
      "-1.216526     6\n",
      "-1.135169     6\n",
      " 0.306615     6\n",
      " 0.985989     6\n",
      "-1.068909     6\n",
      " 0.684045     6\n",
      " 0.300576     6\n",
      " 1.188292     6\n",
      "-0.093965     6\n",
      "             ..\n",
      "-1.424196     1\n",
      " 0.761879     1\n",
      "-1.234810     1\n",
      "-1.433758     1\n",
      " 0.218548     1\n",
      "-0.285867     1\n",
      " 0.728498     1\n",
      " 1.539553     1\n",
      " 0.091899     1\n",
      "-1.659377     1\n",
      "-0.143282     1\n",
      " 1.227209     1\n",
      "-1.230113     1\n",
      " 1.135955     1\n",
      "-0.909549     1\n",
      " 1.111631     1\n",
      " 0.662238     1\n",
      " 0.488452     1\n",
      "-0.375108     1\n",
      " 0.285143     1\n",
      "-0.401948     1\n",
      " 1.369626     1\n",
      " 0.936672     1\n",
      " 0.298563     1\n",
      " 2.105363     1\n",
      " 0.435780     1\n",
      " 0.460606     1\n",
      " 0.882993     1\n",
      " 0.296550     1\n",
      "-1.003320     1\n",
      "Name: satisfaction_hour, Length: 4411, dtype: int64 \n",
      "\n",
      "\n",
      "-1.302478    66\n",
      "-0.362523     9\n",
      "-0.049205     8\n",
      " 0.110936     8\n",
      " 0.218160     8\n",
      " 0.208412     8\n",
      "-0.801169     8\n",
      " 0.185784     8\n",
      " 0.259936     8\n",
      " 0.255236     7\n",
      " 0.117898     7\n",
      " 0.046009     7\n",
      "-0.971057     7\n",
      "-0.166177     7\n",
      " 0.034347     7\n",
      " 0.055235     7\n",
      " 0.264113     7\n",
      "-0.014392     6\n",
      "-0.592290     6\n",
      "-0.597512     6\n",
      " 0.828086     6\n",
      " 0.201450     6\n",
      "-0.188457     6\n",
      "-0.143200     6\n",
      "-0.688374     6\n",
      " 0.013459     6\n",
      "-0.650776     6\n",
      "-0.108387     6\n",
      "-0.738505     6\n",
      " 0.320511     6\n",
      "             ..\n",
      " 0.962639     1\n",
      "-0.678975     1\n",
      "-1.270624     1\n",
      "-0.439112     1\n",
      " 0.448275     1\n",
      "-0.802387     1\n",
      "-0.012651     1\n",
      "-0.398903     1\n",
      "-0.229537     1\n",
      " 0.258369     1\n",
      "-0.347379     1\n",
      " 0.382478     1\n",
      "-1.061223     1\n",
      "-0.576624     1\n",
      " 0.421817     1\n",
      " 3.005648     1\n",
      " 0.883439     1\n",
      " 0.483088     1\n",
      " 0.209457     1\n",
      " 1.447934     1\n",
      " 0.103973     1\n",
      "-0.497424     1\n",
      "-0.352079     1\n",
      " 1.468648     1\n",
      " 2.290238     1\n",
      "-0.030754     1\n",
      "-0.657042     1\n",
      " 0.404236     1\n",
      "-1.131894     1\n",
      "-0.698122     1\n",
      "Name: dissatisfaction_hour, Length: 4431, dtype: int64 \n",
      "\n",
      "\n",
      "-1.519208    100\n",
      "-1.467039     96\n",
      " 0.150199     95\n",
      " 0.567551     91\n",
      " 0.463213     90\n",
      "-0.162815     87\n",
      " 0.254537     77\n",
      "-0.267153     76\n",
      "-1.258363     74\n",
      "-1.345311     74\n",
      "-1.362701     73\n",
      "-0.371490     73\n",
      "-1.293142     69\n",
      "-1.397480     68\n",
      "-1.275752     67\n",
      " 0.306706     61\n",
      "-0.736673     60\n",
      "-1.571377     58\n",
      "-1.414870     57\n",
      "-1.380090     57\n",
      "-1.310532     56\n",
      " 1.263137     55\n",
      " 0.176284     54\n",
      " 0.741447     53\n",
      "-0.301932     53\n",
      " 0.532771     51\n",
      " 0.437128     51\n",
      "-0.788842     50\n",
      " 1.054461     50\n",
      " 1.437033     49\n",
      "            ... \n",
      " 1.141409      2\n",
      " 2.132619      2\n",
      "-0.214984      2\n",
      "-0.258458      2\n",
      " 2.497802      2\n",
      " 2.393464      2\n",
      "-0.493218      2\n",
      " 3.175999      2\n",
      "-1.797442      2\n",
      "-1.440954      2\n",
      " 2.915154      2\n",
      "-1.806137      1\n",
      "-1.545292      1\n",
      "-1.814832      1\n",
      "-1.693104      1\n",
      " 0.984902      1\n",
      " 3.071661      1\n",
      "-1.710494      1\n",
      "-0.823621      1\n",
      " 2.758647      1\n",
      " 1.550066      1\n",
      "-1.658325      1\n",
      " 1.663099      1\n",
      "-1.640935      1\n",
      "-0.562777      1\n",
      "-1.536597      1\n",
      "-1.867001      1\n",
      " 2.289126      1\n",
      " 2.967323      1\n",
      " 1.558761      1\n",
      "Name: satisfaction_project, Length: 300, dtype: int64 \n",
      "\n",
      "\n",
      "-0.289198    111\n",
      "-0.258080    106\n",
      "-0.242521    103\n",
      "-0.382551     95\n",
      "-0.195844     91\n",
      "-0.475905     89\n",
      "-0.755966     83\n",
      " 3.024857     81\n",
      "-0.102490     79\n",
      "-0.351433     77\n",
      "-0.429228     77\n",
      " 0.084217     76\n",
      "-0.226962     74\n",
      "-1.036027     74\n",
      "-0.312536     72\n",
      " 3.071534     72\n",
      "-0.507023     70\n",
      "-0.149167     68\n",
      " 0.426514     68\n",
      " 0.037540     67\n",
      "-1.129380     66\n",
      "-0.849320     66\n",
      "-0.779304     62\n",
      "-0.662612     62\n",
      "-0.180285     62\n",
      "-1.012688     61\n",
      "-0.009137     60\n",
      "-0.195844     60\n",
      "-0.320315     58\n",
      " 0.021981     57\n",
      "            ... \n",
      " 1.857937      2\n",
      " 0.768811      2\n",
      "-0.429228      2\n",
      " 0.410955      2\n",
      "-0.958232      2\n",
      "-0.833761      2\n",
      " 1.079989      2\n",
      " 1.103328      1\n",
      " 0.994415      1\n",
      " 0.317601      1\n",
      " 0.761031      1\n",
      "-0.024696      1\n",
      "-0.335874      1\n",
      " 2.324705      1\n",
      " 1.009974      1\n",
      " 0.006422      1\n",
      " 3.172667      1\n",
      " 0.224248      1\n",
      " 0.722134      1\n",
      " 0.099776      1\n",
      " 0.831046      1\n",
      " 0.877723      1\n",
      " 2.845929      1\n",
      " 3.499405      1\n",
      " 1.173343      1\n",
      " 3.009298      1\n",
      " 0.068658      1\n",
      "-0.755966      1\n",
      " 0.270924      1\n",
      " 2.278028      1\n",
      "Name: dissatisfaction_project, Length: 340, dtype: int64 \n",
      "\n",
      "\n",
      "-0.147866    59\n",
      "-0.353899    55\n",
      " 0.418724    54\n",
      "-0.250883    53\n",
      " 0.573249    50\n",
      "-0.456916    50\n",
      "-0.559932    48\n",
      "-0.044850    47\n",
      "-0.405407    47\n",
      " 0.470233    47\n",
      " 0.367216    45\n",
      " 0.392970    44\n",
      " 0.264200    40\n",
      " 1.088331    40\n",
      " 0.547495    39\n",
      "-0.199374    39\n",
      "-0.611440    39\n",
      "-0.302391    37\n",
      " 0.521741    37\n",
      " 0.315708    36\n",
      "-0.508424    36\n",
      " 0.161183    35\n",
      "-0.096358    35\n",
      " 0.676265    35\n",
      "-0.662949    35\n",
      " 0.727774    33\n",
      " 0.212691    32\n",
      " 1.139839    32\n",
      " 0.599003    32\n",
      "-1.023506    32\n",
      "             ..\n",
      "-1.919749     1\n",
      " 2.736595     1\n",
      "-1.821884     1\n",
      "-0.860397     1\n",
      " 1.783692     1\n",
      "-1.830468     1\n",
      " 2.968382     1\n",
      "-1.030864     1\n",
      "-0.780682     1\n",
      "-1.089731     1\n",
      " 3.277431     1\n",
      "-1.878543     1\n",
      "-1.238124     1\n",
      " 3.895530     1\n",
      "-1.414969     1\n",
      " 2.341698     1\n",
      " 2.813857     1\n",
      "-0.396823     1\n",
      "-1.924900     1\n",
      "-1.598681     1\n",
      "-1.353159     1\n",
      "-1.651907     1\n",
      "-1.672510     1\n",
      "-0.927848     1\n",
      " 3.148660     1\n",
      "-1.631303     1\n",
      "-1.577220     1\n",
      "-0.876340     1\n",
      "-0.929074     1\n",
      " 4.204579     1\n",
      "Name: project_hour_average, Length: 728, dtype: int64 \n",
      "\n",
      "\n",
      "0    7079\n",
      "1     115\n",
      "Name: promotion_last_5years, dtype: int64 \n",
      "\n",
      "\n",
      "0    6608\n",
      "1     586\n",
      "Name: division_IT, dtype: int64 \n",
      "\n",
      "\n",
      "0    6794\n",
      "1     400\n",
      "Name: division_RandD, dtype: int64 \n",
      "\n",
      "\n",
      "0    6821\n",
      "1     373\n",
      "Name: division_accounting, dtype: int64 \n",
      "\n",
      "\n",
      "0    6841\n",
      "1     353\n",
      "Name: division_hr, dtype: int64 \n",
      "\n",
      "\n",
      "0    6941\n",
      "1     253\n"
     ]
    },
    {
     "name": "stdout",
     "output_type": "stream",
     "text": [
      "Name: division_management, dtype: int64 \n",
      "\n",
      "\n",
      "0    6787\n",
      "1     407\n",
      "Name: division_marketing, dtype: int64 \n",
      "\n",
      "\n",
      "0    6770\n",
      "1     424\n",
      "Name: division_product_mng, dtype: int64 \n",
      "\n",
      "\n",
      "0    5218\n",
      "1    1976\n",
      "Name: division_sales, dtype: int64 \n",
      "\n",
      "\n",
      "0    6124\n",
      "1    1070\n",
      "Name: division_support, dtype: int64 \n",
      "\n",
      "\n",
      "0    5842\n",
      "1    1352\n",
      "Name: division_technical, dtype: int64 \n",
      "\n",
      "\n",
      "0    6592\n",
      "1     602\n",
      "Name: salary_high, dtype: int64 \n",
      "\n",
      "\n",
      "0    3733\n",
      "1    3461\n",
      "Name: salary_low, dtype: int64 \n",
      "\n",
      "\n",
      "0    4063\n",
      "1    3131\n",
      "Name: salary_medium, dtype: int64 \n",
      "\n",
      "\n",
      "0    6095\n",
      "1    1099\n",
      "Name: Work_accident, dtype: int64 \n",
      "\n",
      "\n"
     ]
    }
   ],
   "source": [
    "for i in x_train_concat.columns:\n",
    "    print(x_train_concat[i].value_counts(), '\\n\\n')"
   ]
  },
  {
   "cell_type": "code",
   "execution_count": 176,
   "metadata": {
    "scrolled": true
   },
   "outputs": [
    {
     "name": "stdout",
     "output_type": "stream",
     "text": [
      "Best Accuracy 0.974145120934\n",
      "Best Param {'C': 10}\n"
     ]
    }
   ],
   "source": [
    "best_rbfSVC = rbfSVC_fit(x_train_concat, y_train) "
   ]
  },
  {
   "cell_type": "code",
   "execution_count": 178,
   "metadata": {
    "scrolled": true
   },
   "outputs": [
    {
     "data": {
      "text/plain": [
       "SVC(C=10, cache_size=200, class_weight=None, coef0=0.0,\n",
       "  decision_function_shape='ovr', degree=3, gamma='auto', kernel='rbf',\n",
       "  max_iter=-1, probability=True, random_state=None, shrinking=True,\n",
       "  tol=0.001, verbose=False)"
      ]
     },
     "execution_count": 178,
     "metadata": {},
     "output_type": "execute_result"
    }
   ],
   "source": [
    "RBF_SVC_2 = SVC(kernel = 'rbf', C=best_rbfSVC.best_params_.get('C'), probability=True)\n",
    "RBF_SVC_2.fit(x_train_concat, y_train)"
   ]
  },
  {
   "cell_type": "code",
   "execution_count": 179,
   "metadata": {
    "collapsed": true
   },
   "outputs": [],
   "source": [
    "def linearSVC_fit(x_train, y_train):\n",
    "    linear_SVC = SVC(kernel = 'linear')\n",
    "\n",
    "    hyperparam = {'C': [1000, 333.33, 100, 33.33, 10, 3.33, 10, 3.33, 1, 0.33, 0.1, 0.033, 0.01, 0.0033, \n",
    "                        0.001, 0.00033, 0.0001]}\n",
    "\n",
    "    random_linear_SVC = RandomizedSearchCV(linear_SVC, param_distributions = hyperparam, cv = 5,\n",
    "                                    n_iter = 5, n_jobs=2, random_state = 123)\n",
    "    \n",
    "    random_linear_SVC.fit(x_train, y_train)\n",
    "    \n",
    "    print (\"Best Accuracy\", random_linear_SVC.score(x_train, y_train))\n",
    "    print (\"Best Param\", random_linear_SVC.best_params_)\n",
    "    \n",
    "    return random_linear_SVC "
   ]
  },
  {
   "cell_type": "code",
   "execution_count": 180,
   "metadata": {},
   "outputs": [
    {
     "name": "stdout",
     "output_type": "stream",
     "text": [
      "Best Accuracy 0.83416736169\n",
      "Best Param {'C': 10}\n"
     ]
    }
   ],
   "source": [
    "best_linear_SVC = linearSVC_fit(x_train_concat, y_train) "
   ]
  },
  {
   "cell_type": "code",
   "execution_count": 183,
   "metadata": {},
   "outputs": [
    {
     "data": {
      "text/plain": [
       "SVC(C=10, cache_size=200, class_weight=None, coef0=0.0,\n",
       "  decision_function_shape='ovr', degree=3, gamma='auto', kernel='rbf',\n",
       "  max_iter=-1, probability=False, random_state=None, shrinking=True,\n",
       "  tol=0.001, verbose=False)"
      ]
     },
     "execution_count": 183,
     "metadata": {},
     "output_type": "execute_result"
    }
   ],
   "source": [
    "Linear_SVC_2 = SVC(kernel= 'rbf',C= best_linear_SVC.best_params_.get('C'))\n",
    "Linear_SVC_2.fit(x_train_concat, y_train)"
   ]
  },
  {
   "cell_type": "code",
   "execution_count": 184,
   "metadata": {
    "collapsed": true
   },
   "outputs": [],
   "source": [
    "def logreg_fit(x_train, y_train):\n",
    "    logreg = LogisticRegression()\n",
    "\n",
    "    hyperparam = {'C': [1000, 333.33, 100, 33.33, 10, 3.33, 10, 3.33, 1, 0.33, 0.1, 0.033, 0.01, 0.0033, \n",
    "                        0.001, 0.00033, 0.0001]}\n",
    "\n",
    "    random_logreg = RandomizedSearchCV(logreg, param_distributions = hyperparam, cv = 5,\n",
    "                                    n_iter = 5, n_jobs=2, random_state = 123)\n",
    "    \n",
    "    random_logreg.fit(x_train, y_train)\n",
    "    \n",
    "    print (\"Best Accuracy\", random_logreg.score(x_train, y_train))\n",
    "    print (\"Best Param\", random_logreg.best_params_)\n",
    "    \n",
    "    return random_logreg"
   ]
  },
  {
   "cell_type": "code",
   "execution_count": 186,
   "metadata": {},
   "outputs": [
    {
     "name": "stdout",
     "output_type": "stream",
     "text": [
      "Best Accuracy 0.821378926884\n",
      "Best Param {'C': 0.33}\n"
     ]
    }
   ],
   "source": [
    "best_logreg = logreg_fit(x_train_concat, y_train)"
   ]
  },
  {
   "cell_type": "code",
   "execution_count": 187,
   "metadata": {},
   "outputs": [
    {
     "data": {
      "text/plain": [
       "LogisticRegression(C=0.33, class_weight=None, dual=False, fit_intercept=True,\n",
       "          intercept_scaling=1, max_iter=100, multi_class='ovr', n_jobs=1,\n",
       "          penalty='l2', random_state=None, solver='liblinear', tol=0.0001,\n",
       "          verbose=0, warm_start=False)"
      ]
     },
     "execution_count": 187,
     "metadata": {},
     "output_type": "execute_result"
    }
   ],
   "source": [
    "Logreg_2 = LogisticRegression(C=best_logreg.best_params_.get('C'))\n",
    "Logreg_2.fit(x_train_concat, y_train)"
   ]
  },
  {
   "cell_type": "markdown",
   "metadata": {},
   "source": [
    "## Test Data Preprocessing"
   ]
  },
  {
   "cell_type": "code",
   "execution_count": 188,
   "metadata": {
    "collapsed": true
   },
   "outputs": [],
   "source": [
    "# Categorical\n",
    "def testCategoricalDummies(data, categorical_columns, label_encoder, label_binarizer,dummy_columns):\n",
    "    data = data[categorical_columns].fillna(\"KOSONG\")\n",
    "    dummy_variables = pd.DataFrame([])\n",
    "    \n",
    "    for i in categorical_columns:\n",
    "        label_en = label_encoder[i]\n",
    "        label_bin = label_binarizer[i]\n",
    "        \n",
    "        encoded = label_en.transform(data[i])\n",
    "        binary = label_bin.transform(encoded)\n",
    "        \n",
    "        if binary.shape[1] == 1:\n",
    "            dummy = pd.DataFrame(binary, index = data.index)\n",
    "        else:\n",
    "            dummy = pd.DataFrame(binary, index = data.index)\n",
    "        \n",
    "        dummy_variables = pd.concat([dummy_variables, dummy], axis = 1)\n",
    "    dummy_variables.columns = dummy_columns\n",
    "    return dummy_variables"
   ]
  },
  {
   "cell_type": "code",
   "execution_count": 189,
   "metadata": {
    "collapsed": true
   },
   "outputs": [],
   "source": [
    "def validData(numerical_columns, categorical_columns,data, imputer, standard,label_encoder, label_binarizer, dummy_columns):\n",
    "    \n",
    "    data_dummy = testCategoricalDummies(data, categorical_columns, label_encoder, label_binarizer, dummy_columns)\n",
    "    data_numeric_imput = transformImput(data[numerical_columns], imputer=imputer)\n",
    "    data_numeric_std = transformStandardize(data_numeric_imput, standard)\n",
    "    data_concat = pd.concat([data_numeric_std, data_dummy], axis=1)\n",
    "\n",
    "    return data_concat"
   ]
  },
  {
   "cell_type": "code",
   "execution_count": 190,
   "metadata": {},
   "outputs": [
    {
     "name": "stdout",
     "output_type": "stream",
     "text": [
      "satisfaction_level         0\n",
      "last_evaluation            0\n",
      "number_project             0\n",
      "average_montly_hours       0\n",
      "time_spend_company         0\n",
      "satisfaction_hour          0\n",
      "dissatisfaction_hour       0\n",
      "satisfaction_project       0\n",
      "dissatisfaction_project    0\n",
      "project_hour_average       0\n",
      "dtype: int64\n",
      "      satisfaction_level  last_evaluation  number_project  \\\n",
      "6816                0.74             0.86             5.0   \n",
      "4649                0.19             0.64             6.0   \n",
      "3169                0.72             0.82             5.0   \n",
      "6485                0.63             1.00             5.0   \n",
      "9388                0.51             0.41             2.0   \n",
      "\n",
      "      average_montly_hours  time_spend_company  satisfaction_hour  \\\n",
      "6816                 153.0                 2.0             113.22   \n",
      "4649                 222.0                 5.0              42.18   \n",
      "3169                 287.0                 3.0             206.64   \n",
      "6485                 241.0                 4.0             151.83   \n",
      "9388                 164.0                 4.0              83.64   \n",
      "\n",
      "      dissatisfaction_hour  satisfaction_project  dissatisfaction_project  \\\n",
      "6816                 39.78                  3.70                     1.30   \n",
      "4649                179.82                  1.14                     4.86   \n",
      "3169                 80.36                  3.60                     1.40   \n",
      "6485                 89.17                  3.15                     1.85   \n",
      "9388                 80.36                  1.02                     0.98   \n",
      "\n",
      "      project_hour_average  \n",
      "6816                  30.6  \n",
      "4649                  37.0  \n",
      "3169                  57.4  \n",
      "6485                  48.2  \n",
      "9388                  82.0  \n",
      "      satisfaction_level  last_evaluation  number_project  \\\n",
      "6816            0.463284         0.841157        1.030824   \n",
      "4649           -1.804166        -0.465418        1.889128   \n",
      "3169            0.380831         0.603598        1.030824   \n",
      "6485            0.009794         1.672613        1.030824   \n",
      "9388           -0.484923        -1.831382       -1.544089   \n",
      "\n",
      "      average_montly_hours  time_spend_company  satisfaction_hour  \\\n",
      "6816             -0.978737           -1.023948          -0.209710   \n",
      "4649              0.441561            1.251937          -1.401383   \n",
      "3169              1.779522           -0.265320           1.357380   \n",
      "6485              0.832657            0.493309           0.437960   \n",
      "9388             -0.752312            0.493309          -0.705905   \n",
      "\n",
      "      dissatisfaction_hour  satisfaction_project  dissatisfaction_project  \\\n",
      "6816             -0.610045              1.176189                -0.118049   \n",
      "4649              1.827572             -1.049687                 2.651443   \n",
      "3169              0.096314              1.089240                -0.040254   \n",
      "6485              0.249666              0.697973                 0.309822   \n",
      "9388              0.096314             -1.154025                -0.366992   \n",
      "\n",
      "      project_hour_average  \n",
      "6816             -1.353159  \n",
      "4649             -1.023506  \n",
      "3169              0.027262  \n",
      "6485             -0.446614  \n",
      "9388              1.294364  \n"
     ]
    }
   ],
   "source": [
    "x_test_standardize = validData(numeric, categoric,x_test, imput, standard,label_encoder, label_binarizer, dummy_columns)"
   ]
  },
  {
   "cell_type": "code",
   "execution_count": 191,
   "metadata": {},
   "outputs": [
    {
     "data": {
      "text/html": [
       "<div>\n",
       "<style>\n",
       "    .dataframe thead tr:only-child th {\n",
       "        text-align: right;\n",
       "    }\n",
       "\n",
       "    .dataframe thead th {\n",
       "        text-align: left;\n",
       "    }\n",
       "\n",
       "    .dataframe tbody tr th {\n",
       "        vertical-align: top;\n",
       "    }\n",
       "</style>\n",
       "<table border=\"1\" class=\"dataframe\">\n",
       "  <thead>\n",
       "    <tr style=\"text-align: right;\">\n",
       "      <th></th>\n",
       "      <th>satisfaction_level</th>\n",
       "      <th>last_evaluation</th>\n",
       "      <th>number_project</th>\n",
       "      <th>average_montly_hours</th>\n",
       "      <th>time_spend_company</th>\n",
       "      <th>satisfaction_hour</th>\n",
       "      <th>dissatisfaction_hour</th>\n",
       "      <th>satisfaction_project</th>\n",
       "      <th>dissatisfaction_project</th>\n",
       "      <th>project_hour_average</th>\n",
       "      <th>...</th>\n",
       "      <th>division_management</th>\n",
       "      <th>division_marketing</th>\n",
       "      <th>division_product_mng</th>\n",
       "      <th>division_sales</th>\n",
       "      <th>division_support</th>\n",
       "      <th>division_technical</th>\n",
       "      <th>salary_high</th>\n",
       "      <th>salary_low</th>\n",
       "      <th>salary_medium</th>\n",
       "      <th>Work_accident</th>\n",
       "    </tr>\n",
       "  </thead>\n",
       "  <tbody>\n",
       "    <tr>\n",
       "      <th>6816</th>\n",
       "      <td>0.463284</td>\n",
       "      <td>0.841157</td>\n",
       "      <td>1.030824</td>\n",
       "      <td>-0.978737</td>\n",
       "      <td>-1.023948</td>\n",
       "      <td>-0.209710</td>\n",
       "      <td>-0.610045</td>\n",
       "      <td>1.176189</td>\n",
       "      <td>-0.118049</td>\n",
       "      <td>-1.353159</td>\n",
       "      <td>...</td>\n",
       "      <td>0</td>\n",
       "      <td>0</td>\n",
       "      <td>0</td>\n",
       "      <td>1</td>\n",
       "      <td>0</td>\n",
       "      <td>0</td>\n",
       "      <td>0</td>\n",
       "      <td>1</td>\n",
       "      <td>0</td>\n",
       "      <td>0</td>\n",
       "    </tr>\n",
       "    <tr>\n",
       "      <th>4649</th>\n",
       "      <td>-1.804166</td>\n",
       "      <td>-0.465418</td>\n",
       "      <td>1.889128</td>\n",
       "      <td>0.441561</td>\n",
       "      <td>1.251937</td>\n",
       "      <td>-1.401383</td>\n",
       "      <td>1.827572</td>\n",
       "      <td>-1.049687</td>\n",
       "      <td>2.651443</td>\n",
       "      <td>-1.023506</td>\n",
       "      <td>...</td>\n",
       "      <td>0</td>\n",
       "      <td>0</td>\n",
       "      <td>1</td>\n",
       "      <td>0</td>\n",
       "      <td>0</td>\n",
       "      <td>0</td>\n",
       "      <td>0</td>\n",
       "      <td>0</td>\n",
       "      <td>1</td>\n",
       "      <td>0</td>\n",
       "    </tr>\n",
       "    <tr>\n",
       "      <th>3169</th>\n",
       "      <td>0.380831</td>\n",
       "      <td>0.603598</td>\n",
       "      <td>1.030824</td>\n",
       "      <td>1.779522</td>\n",
       "      <td>-0.265320</td>\n",
       "      <td>1.357380</td>\n",
       "      <td>0.096314</td>\n",
       "      <td>1.089240</td>\n",
       "      <td>-0.040254</td>\n",
       "      <td>0.027262</td>\n",
       "      <td>...</td>\n",
       "      <td>0</td>\n",
       "      <td>0</td>\n",
       "      <td>0</td>\n",
       "      <td>0</td>\n",
       "      <td>0</td>\n",
       "      <td>1</td>\n",
       "      <td>0</td>\n",
       "      <td>0</td>\n",
       "      <td>1</td>\n",
       "      <td>0</td>\n",
       "    </tr>\n",
       "    <tr>\n",
       "      <th>6485</th>\n",
       "      <td>0.009794</td>\n",
       "      <td>1.672613</td>\n",
       "      <td>1.030824</td>\n",
       "      <td>0.832657</td>\n",
       "      <td>0.493309</td>\n",
       "      <td>0.437960</td>\n",
       "      <td>0.249666</td>\n",
       "      <td>0.697973</td>\n",
       "      <td>0.309822</td>\n",
       "      <td>-0.446614</td>\n",
       "      <td>...</td>\n",
       "      <td>0</td>\n",
       "      <td>0</td>\n",
       "      <td>0</td>\n",
       "      <td>0</td>\n",
       "      <td>0</td>\n",
       "      <td>0</td>\n",
       "      <td>0</td>\n",
       "      <td>0</td>\n",
       "      <td>1</td>\n",
       "      <td>0</td>\n",
       "    </tr>\n",
       "    <tr>\n",
       "      <th>9388</th>\n",
       "      <td>-0.484923</td>\n",
       "      <td>-1.831382</td>\n",
       "      <td>-1.544089</td>\n",
       "      <td>-0.752312</td>\n",
       "      <td>0.493309</td>\n",
       "      <td>-0.705905</td>\n",
       "      <td>0.096314</td>\n",
       "      <td>-1.154025</td>\n",
       "      <td>-0.366992</td>\n",
       "      <td>1.294364</td>\n",
       "      <td>...</td>\n",
       "      <td>0</td>\n",
       "      <td>0</td>\n",
       "      <td>0</td>\n",
       "      <td>1</td>\n",
       "      <td>0</td>\n",
       "      <td>0</td>\n",
       "      <td>0</td>\n",
       "      <td>0</td>\n",
       "      <td>1</td>\n",
       "      <td>0</td>\n",
       "    </tr>\n",
       "  </tbody>\n",
       "</table>\n",
       "<p>5 rows × 25 columns</p>\n",
       "</div>"
      ],
      "text/plain": [
       "      satisfaction_level  last_evaluation  number_project  \\\n",
       "6816            0.463284         0.841157        1.030824   \n",
       "4649           -1.804166        -0.465418        1.889128   \n",
       "3169            0.380831         0.603598        1.030824   \n",
       "6485            0.009794         1.672613        1.030824   \n",
       "9388           -0.484923        -1.831382       -1.544089   \n",
       "\n",
       "      average_montly_hours  time_spend_company  satisfaction_hour  \\\n",
       "6816             -0.978737           -1.023948          -0.209710   \n",
       "4649              0.441561            1.251937          -1.401383   \n",
       "3169              1.779522           -0.265320           1.357380   \n",
       "6485              0.832657            0.493309           0.437960   \n",
       "9388             -0.752312            0.493309          -0.705905   \n",
       "\n",
       "      dissatisfaction_hour  satisfaction_project  dissatisfaction_project  \\\n",
       "6816             -0.610045              1.176189                -0.118049   \n",
       "4649              1.827572             -1.049687                 2.651443   \n",
       "3169              0.096314              1.089240                -0.040254   \n",
       "6485              0.249666              0.697973                 0.309822   \n",
       "9388              0.096314             -1.154025                -0.366992   \n",
       "\n",
       "      project_hour_average      ...        division_management  \\\n",
       "6816             -1.353159      ...                          0   \n",
       "4649             -1.023506      ...                          0   \n",
       "3169              0.027262      ...                          0   \n",
       "6485             -0.446614      ...                          0   \n",
       "9388              1.294364      ...                          0   \n",
       "\n",
       "      division_marketing  division_product_mng  division_sales  \\\n",
       "6816                   0                     0               1   \n",
       "4649                   0                     1               0   \n",
       "3169                   0                     0               0   \n",
       "6485                   0                     0               0   \n",
       "9388                   0                     0               1   \n",
       "\n",
       "      division_support  division_technical  salary_high  salary_low  \\\n",
       "6816                 0                   0            0           1   \n",
       "4649                 0                   0            0           0   \n",
       "3169                 0                   1            0           0   \n",
       "6485                 0                   0            0           0   \n",
       "9388                 0                   0            0           0   \n",
       "\n",
       "      salary_medium  Work_accident  \n",
       "6816              0              0  \n",
       "4649              1              0  \n",
       "3169              1              0  \n",
       "6485              1              0  \n",
       "9388              1              0  \n",
       "\n",
       "[5 rows x 25 columns]"
      ]
     },
     "execution_count": 191,
     "metadata": {},
     "output_type": "execute_result"
    }
   ],
   "source": [
    "x_test_standardize.head()"
   ]
  },
  {
   "cell_type": "code",
   "execution_count": 192,
   "metadata": {},
   "outputs": [
    {
     "data": {
      "text/plain": [
       "(4797, 25)"
      ]
     },
     "execution_count": 192,
     "metadata": {},
     "output_type": "execute_result"
    }
   ],
   "source": [
    "x_test_standardize.shape"
   ]
  },
  {
   "cell_type": "code",
   "execution_count": 193,
   "metadata": {},
   "outputs": [
    {
     "data": {
      "text/plain": [
       "0.97414512093411176"
      ]
     },
     "execution_count": 193,
     "metadata": {},
     "output_type": "execute_result"
    }
   ],
   "source": [
    "RBF_SVC_2.score(x_train_concat, y_train)"
   ]
  },
  {
   "cell_type": "code",
   "execution_count": 194,
   "metadata": {},
   "outputs": [
    {
     "data": {
      "text/plain": [
       "0.97540129247446317"
      ]
     },
     "execution_count": 194,
     "metadata": {},
     "output_type": "execute_result"
    }
   ],
   "source": [
    "RBF_SVC_2.score(x_test_standardize, y_test)"
   ]
  },
  {
   "cell_type": "code",
   "execution_count": 198,
   "metadata": {},
   "outputs": [
    {
     "data": {
      "text/plain": [
       "0.97414512093411176"
      ]
     },
     "execution_count": 198,
     "metadata": {},
     "output_type": "execute_result"
    }
   ],
   "source": [
    "Linear_SVC_2.score(x_train_concat, y_train)"
   ]
  },
  {
   "cell_type": "code",
   "execution_count": 199,
   "metadata": {},
   "outputs": [
    {
     "data": {
      "text/plain": [
       "0.97540129247446317"
      ]
     },
     "execution_count": 199,
     "metadata": {},
     "output_type": "execute_result"
    }
   ],
   "source": [
    "Linear_SVC_2.score(x_test_standardize, y_test)"
   ]
  },
  {
   "cell_type": "code",
   "execution_count": 197,
   "metadata": {},
   "outputs": [
    {
     "data": {
      "text/plain": [
       "0.83309007506255217"
      ]
     },
     "execution_count": 197,
     "metadata": {},
     "output_type": "execute_result"
    }
   ],
   "source": [
    "benchmark"
   ]
  },
  {
   "cell_type": "code",
   "execution_count": 200,
   "metadata": {},
   "outputs": [
    {
     "data": {
      "text/plain": [
       "0.82137892688351399"
      ]
     },
     "execution_count": 200,
     "metadata": {},
     "output_type": "execute_result"
    }
   ],
   "source": [
    "Logreg_2.score(x_train_concat, y_train)"
   ]
  },
  {
   "cell_type": "code",
   "execution_count": 201,
   "metadata": {},
   "outputs": [
    {
     "data": {
      "text/plain": [
       "0.82739212007504692"
      ]
     },
     "execution_count": 201,
     "metadata": {},
     "output_type": "execute_result"
    }
   ],
   "source": [
    "Logreg_2.score(x_test_standardize, y_test)"
   ]
  },
  {
   "cell_type": "code",
   "execution_count": null,
   "metadata": {
    "collapsed": true
   },
   "outputs": [],
   "source": []
  }
 ],
 "metadata": {
  "kernelspec": {
   "display_name": "Python [conda env:ENVNAME]",
   "language": "python",
   "name": "conda-env-ENVNAME-py"
  },
  "language_info": {
   "codemirror_mode": {
    "name": "ipython",
    "version": 3
   },
   "file_extension": ".py",
   "mimetype": "text/x-python",
   "name": "python",
   "nbconvert_exporter": "python",
   "pygments_lexer": "ipython3",
   "version": "3.6.2"
  }
 },
 "nbformat": 4,
 "nbformat_minor": 2
}
